{
 "cells": [
  {
   "cell_type": "markdown",
   "metadata": {},
   "source": [
    "https://github.com/fyrxfyr/first_git"
   ]
  },
  {
   "cell_type": "markdown",
   "metadata": {
    "toc": true
   },
   "source": [
    "<h1>Содержание<span class=\"tocSkip\"></span></h1>\n",
    "<div class=\"toc\"><ul class=\"toc-item\"><li><span><a href=\"#Подготовка-данных\" data-toc-modified-id=\"Подготовка-данных-1\"><span class=\"toc-item-num\">1&nbsp;&nbsp;</span>Подготовка данных</a></span></li><li><span><a href=\"#Исследование-задачи\" data-toc-modified-id=\"Исследование-задачи-2\"><span class=\"toc-item-num\">2&nbsp;&nbsp;</span>Исследование задачи</a></span></li><li><span><a href=\"#Борьба-с-дисбалансом\" data-toc-modified-id=\"Борьба-с-дисбалансом-3\"><span class=\"toc-item-num\">3&nbsp;&nbsp;</span>Борьба с дисбалансом</a></span></li><li><span><a href=\"#Тестирование-модели\" data-toc-modified-id=\"Тестирование-модели-4\"><span class=\"toc-item-num\">4&nbsp;&nbsp;</span>Тестирование модели</a></span></li><li><span><a href=\"#Чек-лист-готовности-проекта\" data-toc-modified-id=\"Чек-лист-готовности-проекта-5\"><span class=\"toc-item-num\">5&nbsp;&nbsp;</span>Чек-лист готовности проекта</a></span></li><li><span><a href=\"#Общий-вывод-по-проекту\" data-toc-modified-id=\"Общий-вывод-по-проекту-6\"><span class=\"toc-item-num\">6&nbsp;&nbsp;</span><b>Общий вывод по проекту</b></a></span></li><li><span><a href=\"#Общий-вывод-по-проекту-В2\" data-toc-modified-id=\"Общий-вывод-по-проекту-В2-7\"><span class=\"toc-item-num\">7&nbsp;&nbsp;</span><b>Общий вывод по проекту В2</b></a></span></li><li><span><a href=\"#Общий-вывод-по-проекту-В3\" data-toc-modified-id=\"Общий-вывод-по-проекту-В3-8\"><span class=\"toc-item-num\">8&nbsp;&nbsp;</span><b>Общий вывод по проекту В3</b></a></span></li></ul></div>"
   ]
  },
  {
   "cell_type": "markdown",
   "metadata": {},
   "source": [
    "# Отток клиентов"
   ]
  },
  {
   "cell_type": "markdown",
   "metadata": {},
   "source": [
    "## Подготовка данных"
   ]
  },
  {
   "cell_type": "code",
   "execution_count": 1,
   "metadata": {},
   "outputs": [],
   "source": [
    "import pandas as pd\n",
    "import numpy as np\n",
    "import matplotlib.pyplot as plt\n",
    "from sklearn.utils import shuffle\n",
    "from sklearn.model_selection import train_test_split\n",
    "from sklearn.metrics import accuracy_score, f1_score, confusion_matrix, recall_score, precision_score, roc_auc_score, roc_curve\n",
    "from sklearn.linear_model import LogisticRegression\n",
    "from sklearn.ensemble import RandomForestClassifier\n",
    "from sklearn.tree import DecisionTreeClassifier\n",
    "from sklearn.preprocessing import StandardScaler\n",
    "from sklearn.metrics import mean_squared_error\n",
    "from itertools import product\n",
    "import tqdm\n",
    "import warnings\n",
    "warnings.filterwarnings('ignore')"
   ]
  },
  {
   "cell_type": "code",
   "execution_count": 2,
   "metadata": {},
   "outputs": [],
   "source": [
    "try:\n",
    "    df = pd.read_csv('/datasets/Churn.csv')\n",
    "except:\n",
    "    df = pd.read_csv('Churn.csv')"
   ]
  },
  {
   "cell_type": "code",
   "execution_count": 3,
   "metadata": {},
   "outputs": [
    {
     "data": {
      "text/html": [
       "<div>\n",
       "<style scoped>\n",
       "    .dataframe tbody tr th:only-of-type {\n",
       "        vertical-align: middle;\n",
       "    }\n",
       "\n",
       "    .dataframe tbody tr th {\n",
       "        vertical-align: top;\n",
       "    }\n",
       "\n",
       "    .dataframe thead th {\n",
       "        text-align: right;\n",
       "    }\n",
       "</style>\n",
       "<table border=\"1\" class=\"dataframe\">\n",
       "  <thead>\n",
       "    <tr style=\"text-align: right;\">\n",
       "      <th></th>\n",
       "      <th>RowNumber</th>\n",
       "      <th>CustomerId</th>\n",
       "      <th>Surname</th>\n",
       "      <th>CreditScore</th>\n",
       "      <th>Geography</th>\n",
       "      <th>Gender</th>\n",
       "      <th>Age</th>\n",
       "      <th>Tenure</th>\n",
       "      <th>Balance</th>\n",
       "      <th>NumOfProducts</th>\n",
       "      <th>HasCrCard</th>\n",
       "      <th>IsActiveMember</th>\n",
       "      <th>EstimatedSalary</th>\n",
       "      <th>Exited</th>\n",
       "    </tr>\n",
       "  </thead>\n",
       "  <tbody>\n",
       "    <tr>\n",
       "      <th>0</th>\n",
       "      <td>1</td>\n",
       "      <td>15634602</td>\n",
       "      <td>Hargrave</td>\n",
       "      <td>619</td>\n",
       "      <td>France</td>\n",
       "      <td>Female</td>\n",
       "      <td>42</td>\n",
       "      <td>2.0</td>\n",
       "      <td>0.00</td>\n",
       "      <td>1</td>\n",
       "      <td>1</td>\n",
       "      <td>1</td>\n",
       "      <td>101348.88</td>\n",
       "      <td>1</td>\n",
       "    </tr>\n",
       "    <tr>\n",
       "      <th>1</th>\n",
       "      <td>2</td>\n",
       "      <td>15647311</td>\n",
       "      <td>Hill</td>\n",
       "      <td>608</td>\n",
       "      <td>Spain</td>\n",
       "      <td>Female</td>\n",
       "      <td>41</td>\n",
       "      <td>1.0</td>\n",
       "      <td>83807.86</td>\n",
       "      <td>1</td>\n",
       "      <td>0</td>\n",
       "      <td>1</td>\n",
       "      <td>112542.58</td>\n",
       "      <td>0</td>\n",
       "    </tr>\n",
       "    <tr>\n",
       "      <th>2</th>\n",
       "      <td>3</td>\n",
       "      <td>15619304</td>\n",
       "      <td>Onio</td>\n",
       "      <td>502</td>\n",
       "      <td>France</td>\n",
       "      <td>Female</td>\n",
       "      <td>42</td>\n",
       "      <td>8.0</td>\n",
       "      <td>159660.80</td>\n",
       "      <td>3</td>\n",
       "      <td>1</td>\n",
       "      <td>0</td>\n",
       "      <td>113931.57</td>\n",
       "      <td>1</td>\n",
       "    </tr>\n",
       "    <tr>\n",
       "      <th>3</th>\n",
       "      <td>4</td>\n",
       "      <td>15701354</td>\n",
       "      <td>Boni</td>\n",
       "      <td>699</td>\n",
       "      <td>France</td>\n",
       "      <td>Female</td>\n",
       "      <td>39</td>\n",
       "      <td>1.0</td>\n",
       "      <td>0.00</td>\n",
       "      <td>2</td>\n",
       "      <td>0</td>\n",
       "      <td>0</td>\n",
       "      <td>93826.63</td>\n",
       "      <td>0</td>\n",
       "    </tr>\n",
       "    <tr>\n",
       "      <th>4</th>\n",
       "      <td>5</td>\n",
       "      <td>15737888</td>\n",
       "      <td>Mitchell</td>\n",
       "      <td>850</td>\n",
       "      <td>Spain</td>\n",
       "      <td>Female</td>\n",
       "      <td>43</td>\n",
       "      <td>2.0</td>\n",
       "      <td>125510.82</td>\n",
       "      <td>1</td>\n",
       "      <td>1</td>\n",
       "      <td>1</td>\n",
       "      <td>79084.10</td>\n",
       "      <td>0</td>\n",
       "    </tr>\n",
       "  </tbody>\n",
       "</table>\n",
       "</div>"
      ],
      "text/plain": [
       "   RowNumber  CustomerId   Surname  CreditScore Geography  Gender  Age  \\\n",
       "0          1    15634602  Hargrave          619    France  Female   42   \n",
       "1          2    15647311      Hill          608     Spain  Female   41   \n",
       "2          3    15619304      Onio          502    France  Female   42   \n",
       "3          4    15701354      Boni          699    France  Female   39   \n",
       "4          5    15737888  Mitchell          850     Spain  Female   43   \n",
       "\n",
       "   Tenure    Balance  NumOfProducts  HasCrCard  IsActiveMember  \\\n",
       "0     2.0       0.00              1          1               1   \n",
       "1     1.0   83807.86              1          0               1   \n",
       "2     8.0  159660.80              3          1               0   \n",
       "3     1.0       0.00              2          0               0   \n",
       "4     2.0  125510.82              1          1               1   \n",
       "\n",
       "   EstimatedSalary  Exited  \n",
       "0        101348.88       1  \n",
       "1        112542.58       0  \n",
       "2        113931.57       1  \n",
       "3         93826.63       0  \n",
       "4         79084.10       0  "
      ]
     },
     "metadata": {},
     "output_type": "display_data"
    },
    {
     "name": "stdout",
     "output_type": "stream",
     "text": [
      "<class 'pandas.core.frame.DataFrame'>\n",
      "RangeIndex: 10000 entries, 0 to 9999\n",
      "Data columns (total 14 columns):\n",
      " #   Column           Non-Null Count  Dtype  \n",
      "---  ------           --------------  -----  \n",
      " 0   RowNumber        10000 non-null  int64  \n",
      " 1   CustomerId       10000 non-null  int64  \n",
      " 2   Surname          10000 non-null  object \n",
      " 3   CreditScore      10000 non-null  int64  \n",
      " 4   Geography        10000 non-null  object \n",
      " 5   Gender           10000 non-null  object \n",
      " 6   Age              10000 non-null  int64  \n",
      " 7   Tenure           9091 non-null   float64\n",
      " 8   Balance          10000 non-null  float64\n",
      " 9   NumOfProducts    10000 non-null  int64  \n",
      " 10  HasCrCard        10000 non-null  int64  \n",
      " 11  IsActiveMember   10000 non-null  int64  \n",
      " 12  EstimatedSalary  10000 non-null  float64\n",
      " 13  Exited           10000 non-null  int64  \n",
      "dtypes: float64(3), int64(8), object(3)\n",
      "memory usage: 1.1+ MB\n"
     ]
    }
   ],
   "source": [
    "display(df.head())\n",
    "df.info()"
   ]
  },
  {
   "cell_type": "markdown",
   "metadata": {},
   "source": [
    "В стоблце Tenure есть пропуски. Скорее всего клиент только что стал клиентом банка, заполню их 0.\n",
    "Столбецы RowNumber, CustomerId, Surname не содержат полезной информации, удалю их."
   ]
  },
  {
   "cell_type": "code",
   "execution_count": 4,
   "metadata": {},
   "outputs": [],
   "source": [
    "df['Tenure'].unique()\n",
    "df['Tenure'] = df['Tenure'].fillna(df['Tenure'].median())\n",
    "df = df.drop(['RowNumber', 'CustomerId', 'Surname'], axis=1)"
   ]
  },
  {
   "cell_type": "code",
   "execution_count": 5,
   "metadata": {},
   "outputs": [
    {
     "name": "stdout",
     "output_type": "stream",
     "text": [
      "Доля объектов положительного класса: 0.20369999999999389\n",
      "Доля объектов отрицательного класса: 0.7963000000000061\n"
     ]
    }
   ],
   "source": [
    "print('Доля объектов положительного класса:', sum(df[\"Exited\"]/len(df)))\n",
    "print('Доля объектов отрицательного класса:', 1-sum(df[\"Exited\"]/len(df)))"
   ]
  },
  {
   "cell_type": "code",
   "execution_count": 6,
   "metadata": {},
   "outputs": [],
   "source": [
    "df = pd.get_dummies(df, drop_first=True)"
   ]
  },
  {
   "cell_type": "markdown",
   "metadata": {},
   "source": [
    "Разбивка на обучающую, валидационную и тестовую выборки в пропорции 3:1:1"
   ]
  },
  {
   "cell_type": "code",
   "execution_count": 7,
   "metadata": {},
   "outputs": [],
   "source": [
    "df_train, df_temp = train_test_split(df, test_size=0.4, random_state=12345)\n",
    "df_valid, df_test = train_test_split(df_temp, test_size=0.5, random_state=12345)"
   ]
  },
  {
   "cell_type": "code",
   "execution_count": 8,
   "metadata": {},
   "outputs": [],
   "source": [
    "features_train = df_train.drop(['Exited'], axis=1)\n",
    "target_train = df_train['Exited']\n",
    "features_valid = df_valid.drop(['Exited'], axis=1)\n",
    "target_valid = df_valid['Exited']\n",
    "features_test = df_test.drop(['Exited'], axis=1)\n",
    "target_test = df_test['Exited']"
   ]
  },
  {
   "cell_type": "code",
   "execution_count": 9,
   "metadata": {},
   "outputs": [
    {
     "name": "stdout",
     "output_type": "stream",
     "text": [
      "Размер тренериующей выборки 6000\n",
      "Размер валидационной выборки 2000\n",
      "Размер тестовой выборки 2000\n"
     ]
    }
   ],
   "source": [
    "print('Размер тренериующей выборки', df_train.shape[0])\n",
    "print('Размер валидационной выборки', df_valid.shape[0])\n",
    "print('Размер тестовой выборки', df_test.shape[0])"
   ]
  },
  {
   "cell_type": "markdown",
   "metadata": {},
   "source": [
    "Масштабирование численных признаков"
   ]
  },
  {
   "cell_type": "code",
   "execution_count": 10,
   "metadata": {},
   "outputs": [],
   "source": [
    "numeric = ['CreditScore', 'Age', 'Tenure', 'Balance', 'NumOfProducts', 'EstimatedSalary']"
   ]
  },
  {
   "cell_type": "code",
   "execution_count": 11,
   "metadata": {},
   "outputs": [],
   "source": [
    "scaler = StandardScaler()\n",
    "scaler.fit(features_train[numeric])\n",
    "features_train[numeric] = scaler.transform(features_train[numeric])\n",
    "features_valid[numeric] = scaler.transform(features_valid[numeric])\n",
    "features_test[numeric] = scaler.transform(features_test[numeric])"
   ]
  },
  {
   "cell_type": "markdown",
   "metadata": {},
   "source": [
    "Вывод: удалены, ненужные для исследования, столбцы; пропуски заполнены медианой; выделен целевой признак; данные разбиты на выборки. Подготовка данных завершена, приступаю к исследованию задачи"
   ]
  },
  {
   "cell_type": "markdown",
   "metadata": {},
   "source": [
    "## Исследование задачи"
   ]
  },
  {
   "cell_type": "markdown",
   "metadata": {},
   "source": [
    "Протестирую и найду оптимальную модель и гиперпараметры"
   ]
  },
  {
   "cell_type": "markdown",
   "metadata": {},
   "source": [
    "Дерево решений"
   ]
  },
  {
   "cell_type": "code",
   "execution_count": 12,
   "metadata": {},
   "outputs": [
    {
     "name": "stdout",
     "output_type": "stream",
     "text": [
      "Оптимальная глубина дерева 6 F1 0.5696969696969697\n"
     ]
    }
   ],
   "source": [
    "best_depth = 0\n",
    "best_f1 = 0\n",
    "\n",
    "for depth in range(1,101):\n",
    "    model = DecisionTreeClassifier(random_state=12345, max_depth=depth)\n",
    "    model.fit(features_train, target_train)\n",
    "    valid_predictions = model.predict(features_valid)\n",
    "    f1 = f1_score(target_valid, valid_predictions)\n",
    "    if f1 > best_f1:\n",
    "        best_depth = depth\n",
    "        best_f1 = f1\n",
    "\n",
    "print('Оптимальная глубина дерева', best_depth,'F1', best_f1)  "
   ]
  },
  {
   "cell_type": "markdown",
   "metadata": {},
   "source": [
    "Случайный лес"
   ]
  },
  {
   "cell_type": "code",
   "execution_count": 13,
   "metadata": {},
   "outputs": [
    {
     "name": "stdout",
     "output_type": "stream",
     "text": [
      "Оптимальное количество деревьев 205 F1 0.5940298507462686\n"
     ]
    }
   ],
   "source": [
    "best_est = 0\n",
    "best_f1 = 0\n",
    "\n",
    "for est in range(10,301, 5):\n",
    "    model = RandomForestClassifier(random_state=12345, n_estimators=est)\n",
    "    model.fit(features_train, target_train)\n",
    "    valid_predictions = model.predict(features_valid)\n",
    "    f1 = f1_score(target_valid, valid_predictions)\n",
    "    if f1 > best_f1:\n",
    "        best_est = est\n",
    "        best_f1 = f1\n",
    "print('Оптимальное количество деревьев', best_est,'F1', best_f1)        "
   ]
  },
  {
   "cell_type": "markdown",
   "metadata": {},
   "source": [
    "Логическая регрессия"
   ]
  },
  {
   "cell_type": "code",
   "execution_count": 14,
   "metadata": {},
   "outputs": [
    {
     "name": "stdout",
     "output_type": "stream",
     "text": [
      "Оптимальное количество итераций 3 F1 0.3322147651006711\n"
     ]
    }
   ],
   "source": [
    "best_iter = 0\n",
    "best_f1 = 0\n",
    "\n",
    "for iter in range(1,101):\n",
    "    model = LogisticRegression(max_iter=iter, solver='liblinear')\n",
    "    model.fit(features_train, target_train)\n",
    "    valid_predictions = model.predict(features_valid)\n",
    "    f1 = f1_score(target_valid, valid_predictions)\n",
    "    if f1 > best_f1:\n",
    "        best_iter = iter\n",
    "        best_f1 = f1\n",
    "        \n",
    "print('Оптимальное количество итераций', best_iter, 'F1', best_f1)"
   ]
  },
  {
   "cell_type": "markdown",
   "metadata": {},
   "source": [
    "Оценим показатели моделей без учета дисбаланса"
   ]
  },
  {
   "cell_type": "code",
   "execution_count": 15,
   "metadata": {},
   "outputs": [
    {
     "name": "stdout",
     "output_type": "stream",
     "text": [
      "Дерево решений\n",
      "Accuracy 0.858\n",
      "Precision 0.7768595041322314\n",
      "Recall 0.44976076555023925\n",
      "F1 0.5696969696969697\n",
      "\n",
      "Случайный лес\n",
      "Accuracy 0.8595\n",
      "Precision 0.7729083665338645\n",
      "Recall 0.46411483253588515\n",
      "F1 0.5799701046337816\n",
      "\n",
      "Логистическая регрессия\n",
      "Accuracy 0.808\n",
      "Precision 0.6148648648648649\n",
      "Recall 0.21770334928229665\n",
      "F1 0.32155477031802127\n",
      "\n"
     ]
    }
   ],
   "source": [
    "model = DecisionTreeClassifier(random_state=12345, max_depth=6)\n",
    "model.fit(features_train, target_train)\n",
    "predicted_valid = model.predict(features_valid)\n",
    "print('Дерево решений')\n",
    "print('Accuracy', accuracy_score(target_valid, predicted_valid))\n",
    "print('Precision', precision_score(target_valid, predicted_valid))\n",
    "print('Recall', recall_score(target_valid, predicted_valid))\n",
    "print('F1', f1_score(target_valid, predicted_valid))\n",
    "print()\n",
    "\n",
    "model = RandomForestClassifier(random_state=12345, n_estimators=70)\n",
    "model.fit(features_train, target_train)\n",
    "predicted_valid = model.predict(features_valid)\n",
    "print('Случайный лес')\n",
    "print('Accuracy', accuracy_score(target_valid, predicted_valid))\n",
    "print('Precision', precision_score(target_valid, predicted_valid))\n",
    "print('Recall', recall_score(target_valid, predicted_valid))\n",
    "print('F1', f1_score(target_valid, predicted_valid))\n",
    "print()\n",
    "\n",
    "model = LogisticRegression(random_state=12345, solver='liblinear', max_iter=2)\n",
    "model.fit(features_train, target_train)\n",
    "predicted_valid = model.predict(features_valid)\n",
    "print('Логистическая регрессия')\n",
    "print('Accuracy', accuracy_score(target_valid, predicted_valid))\n",
    "print('Precision', precision_score(target_valid, predicted_valid))\n",
    "print('Recall', recall_score(target_valid, predicted_valid))\n",
    "print('F1', f1_score(target_valid, predicted_valid))\n",
    "print()"
   ]
  },
  {
   "cell_type": "markdown",
   "metadata": {},
   "source": [
    "Все модели имеют Recall>Precision. Охватывают больше, чем верно предсказывают"
   ]
  },
  {
   "cell_type": "markdown",
   "metadata": {},
   "source": [
    "Оценим AUC-ROC моделей"
   ]
  },
  {
   "cell_type": "code",
   "execution_count": 16,
   "metadata": {},
   "outputs": [
    {
     "name": "stdout",
     "output_type": "stream",
     "text": [
      "AUC-ROC Дерево решений 0.8164631712023421\n",
      "AUC-ROC Случайный лес 0.8379640271233193\n",
      "AUC-ROC Логическая регрессия 0.7599187026294618\n"
     ]
    },
    {
     "data": {
      "image/png": "[encoded data removed]",
      "text/plain": [
       "<Figure size 864x648 with 1 Axes>"
      ]
     },
     "metadata": {
      "needs_background": "light"
     },
     "output_type": "display_data"
    }
   ],
   "source": [
    "plt.figure(figsize=[12,9])\n",
    "\n",
    "plt.plot([0, 1], [0, 1], linestyle='--', label='RandomModel')\n",
    "\n",
    "\n",
    "model = DecisionTreeClassifier(random_state=12345, max_depth=6)\n",
    "model.fit(features_train, target_train)\n",
    "probabilities_valid = model.predict_proba(features_valid)\n",
    "probabilities_one_valid = probabilities_valid[:, 1]\n",
    "fpr, tpr, thresholds = roc_curve(target_valid, probabilities_one_valid)\n",
    "auc_roc = roc_auc_score(target_valid, probabilities_one_valid)\n",
    "print('AUC-ROC Дерево решений',auc_roc)\n",
    "plt.plot(fpr, tpr, label='Дерево решений')\n",
    "\n",
    "model = RandomForestClassifier(random_state=12345, n_estimators=70)\n",
    "model.fit(features_train, target_train)\n",
    "probabilities_valid = model.predict_proba(features_valid)\n",
    "probabilities_one_valid = probabilities_valid[:, 1]\n",
    "fpr, tpr, thresholds = roc_curve(target_valid, probabilities_one_valid)\n",
    "auc_roc = roc_auc_score(target_valid, probabilities_one_valid)\n",
    "print('AUC-ROC Случайный лес',auc_roc)\n",
    "plt.plot(fpr, tpr, label='Случайный лес')\n",
    "\n",
    "model = LogisticRegression(random_state=12345, solver='liblinear', max_iter=2)\n",
    "model.fit(features_train, target_train)\n",
    "probabilities_valid = model.predict_proba(features_valid)\n",
    "probabilities_one_valid = probabilities_valid[:, 1]\n",
    "fpr, tpr, thresholds = roc_curve(target_valid, probabilities_one_valid)\n",
    "auc_roc = roc_auc_score(target_valid, probabilities_one_valid)\n",
    "print('AUC-ROC Логическая регрессия',auc_roc)\n",
    "plt.plot(fpr, tpr, label='Логическая регрессия')\n",
    "\n",
    "plt.xlim([0,1])\n",
    "plt.ylim([0,1])\n",
    "\n",
    "plt.xlabel(\"False Positive Rate\")\n",
    "plt.ylabel(\"True Positive Rate\")\n",
    "\n",
    "plt.legend(loc='lower right', fontsize='x-large')\n",
    "\n",
    "plt.title(\"ROC-кривая\")\n",
    "plt.show()"
   ]
  },
  {
   "cell_type": "markdown",
   "metadata": {},
   "source": [
    "Вывод: сделана прогонка циклом по трем моделям с ключевым критерием best_F1 для поиска оптимального гиперпараметра. Победителем вышел случайный лес с кол-вом деревьев 205. При сравнении на графике AUC_ROC преимущество леса также видно невооруженным глазом. Перехожу к борьбе с дисбалансом"
   ]
  },
  {
   "cell_type": "markdown",
   "metadata": {},
   "source": [
    "## Борьба с дисбалансом"
   ]
  },
  {
   "cell_type": "code",
   "execution_count": 17,
   "metadata": {},
   "outputs": [
    {
     "data": {
      "text/plain": [
       "0    4804\n",
       "1    1196\n",
       "Name: Exited, dtype: int64"
      ]
     },
     "execution_count": 17,
     "metadata": {},
     "output_type": "execute_result"
    }
   ],
   "source": [
    "target_train.value_counts()"
   ]
  },
  {
   "cell_type": "markdown",
   "metadata": {},
   "source": [
    "Присутствует дисбаланс классов в соотношении 1:4"
   ]
  },
  {
   "cell_type": "markdown",
   "metadata": {},
   "source": [
    "Изучим показатели моделей с увеличенной и уменьшенной выборками "
   ]
  },
  {
   "cell_type": "code",
   "execution_count": 12,
   "metadata": {},
   "outputs": [
    {
     "data": {
      "text/plain": [
       "<AxesSubplot:>"
      ]
     },
     "execution_count": 12,
     "metadata": {},
     "output_type": "execute_result"
    },
    {
     "data": {
      "image/png": "[encoded data removed]",
      "text/plain": [
       "<Figure size 432x288 with 1 Axes>"
      ]
     },
     "metadata": {
      "needs_background": "light"
     },
     "output_type": "display_data"
    }
   ],
   "source": [
    "def upsample(features, target, repeat, upsampled_сlass):\n",
    "    features_zeros = features[target == 0]\n",
    "    features_ones = features[target == 1]\n",
    "    target_zeros = target[target == 0]\n",
    "    target_ones = target[target == 1]\n",
    "    \n",
    "    if upsampled_сlass == 0:\n",
    "        features_upsampled = pd.concat([features_zeros]* repeat + [features_ones] )\n",
    "        target_upsampled = pd.concat([target_zeros]* repeat + [target_ones] )\n",
    "        features_upsampled, target_upsampled = shuffle(\n",
    "        features_upsampled, target_upsampled, random_state=12345)\n",
    "        \n",
    "    elif upsampled_сlass == 1:\n",
    "        features_upsampled = pd.concat([features_zeros] + [features_ones] * repeat)\n",
    "        target_upsampled = pd.concat([target_zeros] + [target_ones] * repeat)\n",
    "        features_upsampled, target_upsampled = shuffle(\n",
    "        features_upsampled, target_upsampled, random_state=12345)\n",
    "    else:\n",
    "        features_upsampled = 0\n",
    "        target_upsampled = 0  \n",
    "        \n",
    "        \n",
    "       \n",
    "    return features_upsampled, target_upsampled\n",
    "\n",
    "features_train_upsampled, target_train_upsampled = upsample(features_train, target_train, 4, 1)\n",
    "target_train_upsampled.hist()"
   ]
  },
  {
   "cell_type": "code",
   "execution_count": 19,
   "metadata": {},
   "outputs": [
    {
     "name": "stdout",
     "output_type": "stream",
     "text": [
      "Оптимальная глубина дерева 5 F1 0.5963791267305644\n",
      "Оптимальное количество деревьев 95 F1 0.6123521681997371\n",
      "Оптимальное количество итераций 1 F1 0.4982638888888889\n"
     ]
    }
   ],
   "source": [
    "best_depth = 0\n",
    "best_f1 = 0\n",
    "\n",
    "for depth in range(1,101):\n",
    "    model = DecisionTreeClassifier(random_state=12345, max_depth=depth)\n",
    "    model.fit(features_train_upsampled, target_train_upsampled)\n",
    "    valid_predictions = model.predict(features_valid)\n",
    "    f1 = f1_score(target_valid, valid_predictions)\n",
    "    if f1 > best_f1:\n",
    "        best_depth = depth\n",
    "        best_f1 = f1\n",
    "\n",
    "print('Оптимальная глубина дерева', best_depth,'F1', best_f1) \n",
    "\n",
    "best_est = 0\n",
    "best_f1 = 0\n",
    "\n",
    "for est in range(10,301, 5):\n",
    "    model = RandomForestClassifier(random_state=12345, n_estimators=est)\n",
    "    model.fit(features_train_upsampled, target_train_upsampled)\n",
    "    valid_predictions = model.predict(features_valid)\n",
    "    f1 = f1_score(target_valid, valid_predictions)\n",
    "    if f1 > best_f1:\n",
    "        best_est = est\n",
    "        best_f1 = f1\n",
    "print('Оптимальное количество деревьев', best_est,'F1', best_f1)  \n",
    "\n",
    "best_iter = 0\n",
    "best_f1 = 0\n",
    "\n",
    "for iter in range(1,101):\n",
    "    model = LogisticRegression(max_iter=iter, solver='liblinear')\n",
    "    model.fit(features_train_upsampled, target_train_upsampled)\n",
    "    valid_predictions = model.predict(features_valid)\n",
    "    f1 = f1_score(target_valid, valid_predictions)\n",
    "    if f1 > best_f1:\n",
    "        best_iter = iter\n",
    "        best_f1 = f1\n",
    "        \n",
    "print('Оптимальное количество итераций', best_iter, 'F1', best_f1)"
   ]
  },
  {
   "cell_type": "code",
   "execution_count": 20,
   "metadata": {},
   "outputs": [
    {
     "name": "stdout",
     "output_type": "stream",
     "text": [
      "Дерево решений\n",
      "F1 0.5963791267305644\n",
      "\n",
      "Случайный лес\n",
      "F1 0.6123521681997371\n",
      "\n",
      "Логистическая регрессия\n",
      "F1 0.4982638888888889\n",
      "\n"
     ]
    }
   ],
   "source": [
    "model = DecisionTreeClassifier(random_state=12345, max_depth=20)\n",
    "model.fit(features_train_upsampled, target_train_upsampled)\n",
    "predicted_valid = model.predict(features_valid)\n",
    "print('Дерево решений')\n",
    "print('F1', f1_score(target_valid, predicted_valid))\n",
    "print()\n",
    "\n",
    "model = RandomForestClassifier(random_state=12345, n_estimators=150)\n",
    "model.fit(features_train_upsampled, target_train_upsampled)\n",
    "predicted_valid = model.predict(features_valid)\n",
    "print('Случайный лес')\n",
    "print('F1', f1_score(target_valid, predicted_valid))\n",
    "print()\n",
    "\n",
    "model = LogisticRegression(random_state=12345, solver='liblinear', max_iter=4)\n",
    "model.fit(features_train_upsampled, target_train_upsampled)\n",
    "predicted_valid = model.predict(features_valid)\n",
    "print('Логистическая регрессия')\n",
    "print('F1', f1_score(target_valid, predicted_valid))\n",
    "print()"
   ]
  },
  {
   "cell_type": "markdown",
   "metadata": {},
   "source": [
    "Сравнение по F1-мере:  \n",
    "Параметры всех трех моделей значительно выросли!"
   ]
  },
  {
   "cell_type": "code",
   "execution_count": 21,
   "metadata": {},
   "outputs": [
    {
     "data": {
      "text/plain": [
       "<AxesSubplot:>"
      ]
     },
     "execution_count": 21,
     "metadata": {},
     "output_type": "execute_result"
    },
    {
     "data": {
      "image/png": "[encoded data removed]",
      "text/plain": [
       "<Figure size 432x288 with 1 Axes>"
      ]
     },
     "metadata": {
      "needs_background": "light"
     },
     "output_type": "display_data"
    }
   ],
   "source": [
    "def downsample(features, target, fraction):\n",
    "    features_zeros = features[target == 0]\n",
    "    features_ones = features[target == 1]\n",
    "    target_zeros = target[target == 0]\n",
    "    target_ones = target[target == 1]\n",
    "\n",
    "    features_downsampled = pd.concat(\n",
    "        [features_zeros.sample(frac=fraction, random_state=12345)] + [features_ones])\n",
    "    target_downsampled = pd.concat(\n",
    "        [target_zeros.sample(frac=fraction, random_state=12345)] + [target_ones])\n",
    "    \n",
    "    features_downsampled, target_downsampled = shuffle(\n",
    "        features_downsampled, target_downsampled, random_state=12345)\n",
    "    \n",
    "    return features_downsampled, target_downsampled\n",
    "\n",
    "features_train_downsampled, target_train_downsampled = downsample(features_train, target_train, 0.25)\n",
    "target_train_downsampled.hist()"
   ]
  },
  {
   "cell_type": "code",
   "execution_count": 22,
   "metadata": {},
   "outputs": [
    {
     "name": "stdout",
     "output_type": "stream",
     "text": [
      "Оптимальная глубина дерева 5 F1 0.5943204868154158\n",
      "Оптимальное количество деревьев 20 F1 0.5903846153846154\n",
      "Оптимальное количество итераций 1 F1 0.4943231441048035\n"
     ]
    }
   ],
   "source": [
    "best_depth = 0\n",
    "best_f1 = 0\n",
    "\n",
    "for depth in range(1,101):\n",
    "    model = DecisionTreeClassifier(random_state=12345, max_depth=depth)\n",
    "    model.fit(features_train_downsampled, target_train_downsampled)\n",
    "    valid_predictions = model.predict(features_valid)\n",
    "    f1 = f1_score(target_valid, valid_predictions)\n",
    "    if f1 > best_f1:\n",
    "        best_depth = depth\n",
    "        best_f1 = f1\n",
    "\n",
    "print('Оптимальная глубина дерева', best_depth,'F1', best_f1) \n",
    "\n",
    "best_est = 0\n",
    "best_f1 = 0\n",
    "\n",
    "for est in range(10,301, 5):\n",
    "    model = RandomForestClassifier(random_state=12345, n_estimators=est)\n",
    "    model.fit(features_train_downsampled, target_train_downsampled)\n",
    "    valid_predictions = model.predict(features_valid)\n",
    "    f1 = f1_score(target_valid, valid_predictions)\n",
    "    if f1 > best_f1:\n",
    "        best_est = est\n",
    "        best_f1 = f1\n",
    "print('Оптимальное количество деревьев', best_est,'F1', best_f1)  \n",
    "\n",
    "best_iter = 0\n",
    "best_f1 = 0\n",
    "\n",
    "for iter in range(1,101):\n",
    "    model = LogisticRegression(max_iter=iter, solver='liblinear')\n",
    "    model.fit(features_train_downsampled, target_train_downsampled)\n",
    "    valid_predictions = model.predict(features_valid)\n",
    "    f1 = f1_score(target_valid, valid_predictions)\n",
    "    if f1 > best_f1:\n",
    "        best_iter = iter\n",
    "        best_f1 = f1\n",
    "        \n",
    "print('Оптимальное количество итераций', best_iter, 'F1', best_f1)"
   ]
  },
  {
   "cell_type": "markdown",
   "metadata": {},
   "source": [
    "Лучшей моделью признан случайный лес с увеличенной выборкой. Попытаюсь улучшить показатели выбранной модели"
   ]
  },
  {
   "cell_type": "code",
   "execution_count": 13,
   "metadata": {},
   "outputs": [
    {
     "name": "stderr",
     "output_type": "stream",
     "text": [
      "114it [00:12,  9.15it/s]\n"
     ]
    }
   ],
   "source": [
    "def RandomForestQuality(features_train, target_train, features_valid, target_valid):\n",
    "    \n",
    "    bootstrap = [True, False]\n",
    "    max_features = ['auto', 'sqrt', 'log2'] \n",
    "    max_depth = []\n",
    "    for i in range(1, 20):\n",
    "        max_depth.append(i)\n",
    "        \n",
    "    myproduct = product(bootstrap, max_features, max_depth)\n",
    "    bootstrap_table = []\n",
    "    features_table = []\n",
    "    depth_table = []\n",
    "    f1_table = []\n",
    "    recall_table = []\n",
    "    precision_table = []\n",
    "    score_train_table = []\n",
    "    score_valid_table = []\n",
    "    for p in tqdm.tqdm(myproduct,):\n",
    "        model_forest = RandomForestClassifier(\n",
    "            bootstrap=p[0], max_features = p[1], max_depth = p[2], \n",
    "            n_estimators = 10, random_state=12345)\n",
    "        model_forest.fit(features_train, target_train)\n",
    "        prediction = model_forest.predict(features_valid)\n",
    "        \n",
    "        f1 = f1_score(target_valid, prediction)\n",
    "        recall = recall_score(target_valid, prediction)\n",
    "        precision = precision_score(target_valid, prediction)\n",
    "        score_train = model_forest.score(features_train, target_train)\n",
    "        score_valid = model_forest.score(features_valid, target_valid)\n",
    "        \n",
    "        bootstrap_table.append(p[0])        \n",
    "        features_table.append(p[1])\n",
    "        depth_table.append(p[2])\n",
    "        f1_table.append(f1)\n",
    "        recall_table.append(recall)\n",
    "        precision_table.append(precision)\n",
    "        score_train_table.append(score_train)\n",
    "        score_valid_table.append(score_valid)\n",
    "        \n",
    "    quality_table = pd.DataFrame(data = (\n",
    "        bootstrap_table, features_table, depth_table, \n",
    "        f1_table, recall_table, precision_table, score_train_table, score_valid_table)).T\n",
    "    quality_table.columns = (\n",
    "        'bootstrap', 'max_features', 'max_depth', 'f1', 'recall', \n",
    "        'precision', 'score_train', 'score_valid')\n",
    "    return quality_table\n",
    "\n",
    "quality_table = RandomForestQuality(\n",
    "    features_train_upsampled, target_train_upsampled, features_valid, target_valid)\n"
   ]
  },
  {
   "cell_type": "code",
   "execution_count": 24,
   "metadata": {},
   "outputs": [
    {
     "data": {
      "text/html": [
       "<div>\n",
       "<style scoped>\n",
       "    .dataframe tbody tr th:only-of-type {\n",
       "        vertical-align: middle;\n",
       "    }\n",
       "\n",
       "    .dataframe tbody tr th {\n",
       "        vertical-align: top;\n",
       "    }\n",
       "\n",
       "    .dataframe thead th {\n",
       "        text-align: right;\n",
       "    }\n",
       "</style>\n",
       "<table border=\"1\" class=\"dataframe\">\n",
       "  <thead>\n",
       "    <tr style=\"text-align: right;\">\n",
       "      <th></th>\n",
       "      <th>bootstrap</th>\n",
       "      <th>max_features</th>\n",
       "      <th>max_depth</th>\n",
       "      <th>f1</th>\n",
       "      <th>recall</th>\n",
       "      <th>precision</th>\n",
       "      <th>score_train</th>\n",
       "      <th>score_valid</th>\n",
       "    </tr>\n",
       "  </thead>\n",
       "  <tbody>\n",
       "    <tr>\n",
       "      <th>103</th>\n",
       "      <td>False</td>\n",
       "      <td>log2</td>\n",
       "      <td>9</td>\n",
       "      <td>0.622662</td>\n",
       "      <td>0.677033</td>\n",
       "      <td>0.576375</td>\n",
       "      <td>0.874739</td>\n",
       "      <td>0.8285</td>\n",
       "    </tr>\n",
       "    <tr>\n",
       "      <th>65</th>\n",
       "      <td>False</td>\n",
       "      <td>auto</td>\n",
       "      <td>9</td>\n",
       "      <td>0.622662</td>\n",
       "      <td>0.677033</td>\n",
       "      <td>0.576375</td>\n",
       "      <td>0.874739</td>\n",
       "      <td>0.8285</td>\n",
       "    </tr>\n",
       "    <tr>\n",
       "      <th>84</th>\n",
       "      <td>False</td>\n",
       "      <td>sqrt</td>\n",
       "      <td>9</td>\n",
       "      <td>0.622662</td>\n",
       "      <td>0.677033</td>\n",
       "      <td>0.576375</td>\n",
       "      <td>0.874739</td>\n",
       "      <td>0.8285</td>\n",
       "    </tr>\n",
       "    <tr>\n",
       "      <th>64</th>\n",
       "      <td>False</td>\n",
       "      <td>auto</td>\n",
       "      <td>8</td>\n",
       "      <td>0.621849</td>\n",
       "      <td>0.708134</td>\n",
       "      <td>0.554307</td>\n",
       "      <td>0.845119</td>\n",
       "      <td>0.82</td>\n",
       "    </tr>\n",
       "    <tr>\n",
       "      <th>102</th>\n",
       "      <td>False</td>\n",
       "      <td>log2</td>\n",
       "      <td>8</td>\n",
       "      <td>0.621849</td>\n",
       "      <td>0.708134</td>\n",
       "      <td>0.554307</td>\n",
       "      <td>0.845119</td>\n",
       "      <td>0.82</td>\n",
       "    </tr>\n",
       "  </tbody>\n",
       "</table>\n",
       "</div>"
      ],
      "text/plain": [
       "    bootstrap max_features max_depth        f1    recall precision  \\\n",
       "103     False         log2         9  0.622662  0.677033  0.576375   \n",
       "65      False         auto         9  0.622662  0.677033  0.576375   \n",
       "84      False         sqrt         9  0.622662  0.677033  0.576375   \n",
       "64      False         auto         8  0.621849  0.708134  0.554307   \n",
       "102     False         log2         8  0.621849  0.708134  0.554307   \n",
       "\n",
       "    score_train score_valid  \n",
       "103    0.874739      0.8285  \n",
       "65     0.874739      0.8285  \n",
       "84     0.874739      0.8285  \n",
       "64     0.845119        0.82  \n",
       "102    0.845119        0.82  "
      ]
     },
     "execution_count": 24,
     "metadata": {},
     "output_type": "execute_result"
    }
   ],
   "source": [
    "quality_table.sort_values('f1', ascending = False).head()"
   ]
  },
  {
   "cell_type": "code",
   "execution_count": 14,
   "metadata": {},
   "outputs": [
    {
     "data": {
      "text/plain": [
       "RandomForestClassifier(bootstrap=False, max_depth=9, max_features='log2',\n",
       "                       n_estimators=103, random_state=12345)"
      ]
     },
     "execution_count": 14,
     "metadata": {},
     "output_type": "execute_result"
    }
   ],
   "source": [
    "model_final= RandomForestClassifier(\n",
    "    bootstrap = False, max_features='log2', max_depth= 9,  n_estimators = 103, random_state=12345)\n",
    "model_final.fit(features_train_upsampled, target_train_upsampled)"
   ]
  },
  {
   "cell_type": "code",
   "execution_count": 16,
   "metadata": {},
   "outputs": [
    {
     "name": "stdout",
     "output_type": "stream",
     "text": [
      "AUC-ROC финальной модели: 0.8521373828779509\n"
     ]
    }
   ],
   "source": [
    "model_final_prediction = model_final.predict(features_valid)\n",
    "\n",
    "probabilities_valid = model_final.predict_proba(features_valid)\n",
    "probabilities_one_valid = probabilities_valid[:, 1]\n",
    "\n",
    "print('AUC-ROC финальной модели:', roc_auc_score(target_valid, probabilities_one_valid))"
   ]
  },
  {
   "cell_type": "markdown",
   "metadata": {},
   "source": [
    "Модель адекватна, так как ее показатели AUC-ROC выше, чем у константной"
   ]
  },
  {
   "cell_type": "markdown",
   "metadata": {},
   "source": [
    "Вывод: проведена работа с дисбалансом методом увеличения/уменьшения выборки. F1 мера всех моделей улучшилась, наиболее оптимальной оказалась модель случайного леса с уменьшенной выборкой. Благодаря углубленному подбору гиперпараметров удалось повысить качество модели"
   ]
  },
  {
   "cell_type": "markdown",
   "metadata": {},
   "source": [
    "## Тестирование модели"
   ]
  },
  {
   "cell_type": "code",
   "execution_count": 20,
   "metadata": {},
   "outputs": [
    {
     "data": {
      "image/png": "[encoded data removed]",
      "text/plain": [
       "<Figure size 432x288 with 1 Axes>"
      ]
     },
     "metadata": {
      "needs_background": "light"
     },
     "output_type": "display_data"
    }
   ],
   "source": [
    "predictions = model_final.predict(features_test)\n",
    "\n",
    "probabilities_test = model_final.predict_proba(features_test)\n",
    "probabilities_one_test = probabilities_test[:, 1]\n",
    "fpr, tpr, thresholds = roc_curve(target_test, probabilities_one_test)\n",
    "\n",
    "fpr, tpr, thresholds = roc_curve(target_test, probabilities_one_test) \n",
    "\n",
    "plt.figure()\n",
    "plt.plot(fpr, tpr)\n",
    "plt.plot([0, 1], [0, 1], linestyle='--')\n",
    "plt.xlim([0.0, 1.0])\n",
    "plt.ylim([0.0, 1.0])\n",
    "plt.xlabel('False Positive Rate')\n",
    "plt.ylabel('True Positive Rate')\n",
    "plt.title('ROC-кривая')\n",
    "plt.show()"
   ]
  },
  {
   "cell_type": "code",
   "execution_count": 21,
   "metadata": {},
   "outputs": [
    {
     "name": "stdout",
     "output_type": "stream",
     "text": [
      "Полнота 0.6926713947990544\n",
      "Точность 0.5507518796992481\n",
      "F1-мера 0.6136125654450262\n",
      "AUC-ROC 0.8569597539092542\n",
      "RMSE 0.4295346318982906\n"
     ]
    }
   ],
   "source": [
    "def metrics(target_test, predictions, probabilities):\n",
    "    print('Полнота' , recall_score(target_test, predictions))\n",
    "    print('Точность', precision_score(target_test, predictions))\n",
    "    print('F1-мера', f1_score(target_test, predictions))\n",
    "    print('AUC-ROC', roc_auc_score(target_test, probabilities))\n",
    "    \n",
    "metrics(target_test, predictions, probabilities_one_test)\n",
    "confusion_matrix(target_test, predictions)\n",
    "print('RMSE', mean_squared_error(target_test, predictions)**0.5)"
   ]
  },
  {
   "cell_type": "markdown",
   "metadata": {},
   "source": [
    "Модель прошла испытание. Ключевой критерий F1>0.59 выполнен"
   ]
  },
  {
   "cell_type": "markdown",
   "metadata": {},
   "source": [
    "# Вывод\n",
    "\n",
    "Что было сделано:  \n",
    "1. Заполнены пропуски в данных, датафрейм оптимизирован для анализа  \n",
    "2. Подготовлены выборки  \n",
    "3. Произведен перевод категориальных признаков в численные  \n",
    "4. Сделан подбор и анализ метрик 3 моделей с гиперпараметрами, без учета дисбаланса. На основе анализа и подбора выбрана оптимальная модель  \n",
    "5. Проведена работа с дисбалансом, показатели модели улучшились   \n",
    "6. Выбранная модель дополнительно улучшена настройкой гиперпараметров для предсказания более точных результатов  \n",
    "7. Модель прошла тестирование и удовлетворяет предъявленным требованиям   \n",
    "\n",
    "\n",
    "Модель найдет 69% клиентов, которые могут уйти и с точностью в 55% предскажет их уход\n"
   ]
  },
  {
   "cell_type": "markdown",
   "metadata": {},
   "source": [
    "## Чек-лист готовности проекта"
   ]
  },
  {
   "cell_type": "markdown",
   "metadata": {},
   "source": [
    "Поставьте 'x' в выполненных пунктах. Далее нажмите Shift+Enter."
   ]
  },
  {
   "cell_type": "markdown",
   "metadata": {},
   "source": [
    "- [x]  Jupyter Notebook открыт\n",
    "- [x]  Весь код выполняется без ошибок\n",
    "- [x]  Ячейки с кодом расположены в порядке исполнения\n",
    "- [x]  Выполнен шаг 1: данные подготовлены\n",
    "- [x]  Выполнен шаг 2: задача исследована\n",
    "    - [x]  Исследован баланс классов\n",
    "    - [x]  Изучены модели без учёта дисбаланса\n",
    "    - [x]  Написаны выводы по результатам исследования\n",
    "- [x]  Выполнен шаг 3: учтён дисбаланс\n",
    "    - [x]  Применено несколько способов борьбы с дисбалансом\n",
    "    - [x]  Написаны выводы по результатам исследования\n",
    "- [x]  Выполнен шаг 4: проведено тестирование\n",
    "- [x]  Удалось достичь *F1*-меры не менее 0.59\n",
    "- [x]  Исследована метрика *AUC-ROC*"
   ]
  },
  {
   "cell_type": "markdown",
   "metadata": {
    "toc": true
   },
   "source": [
    "<h1>Содержание<span class=\"tocSkip\"></span></h1>\n",
    "<div class=\"toc\"><ul class=\"toc-item\"><li><span><a href=\"#Подготовка-данных\" data-toc-modified-id=\"Подготовка-данных-1\"><span class=\"toc-item-num\">1&nbsp;&nbsp;</span>Подготовка данных</a></span></li><li><span><a href=\"#Исследование-задачи\" data-toc-modified-id=\"Исследование-задачи-2\"><span class=\"toc-item-num\">2&nbsp;&nbsp;</span>Исследование задачи</a></span></li><li><span><a href=\"#Борьба-с-дисбалансом\" data-toc-modified-id=\"Борьба-с-дисбалансом-3\"><span class=\"toc-item-num\">3&nbsp;&nbsp;</span>Борьба с дисбалансом</a></span></li><li><span><a href=\"#Тестирование-модели\" data-toc-modified-id=\"Тестирование-модели-4\"><span class=\"toc-item-num\">4&nbsp;&nbsp;</span>Тестирование модели</a></span></li><li><span><a href=\"#Чек-лист-готовности-проекта\" data-toc-modified-id=\"Чек-лист-готовности-проекта-5\"><span class=\"toc-item-num\">5&nbsp;&nbsp;</span>Чек-лист готовности проекта</a></span></li></ul></div>"
   ]
  },
  {
   "cell_type": "code",
   "execution_count": null,
   "metadata": {},
   "outputs": [],
   "source": []
  }
 ],
 "metadata": {
  "ExecuteTimeLog": [
   {
    "duration": 1292,
    "start_time": "2023-01-19T13:42:37.640Z"
   },
   {
    "duration": 146,
    "start_time": "2023-01-19T13:42:41.646Z"
   },
   {
    "duration": 169,
    "start_time": "2023-01-19T13:43:49.431Z"
   },
   {
    "duration": 22,
    "start_time": "2023-01-19T13:43:51.078Z"
   },
   {
    "duration": 56,
    "start_time": "2023-01-19T15:42:15.903Z"
   },
   {
    "duration": 8,
    "start_time": "2023-01-19T15:42:18.187Z"
   },
   {
    "duration": 7,
    "start_time": "2023-01-19T15:42:18.603Z"
   },
   {
    "duration": 2070,
    "start_time": "2023-01-19T15:42:20.677Z"
   },
   {
    "duration": 86,
    "start_time": "2023-01-19T15:42:22.749Z"
   },
   {
    "duration": 16,
    "start_time": "2023-01-19T15:42:22.951Z"
   },
   {
    "duration": 26,
    "start_time": "2023-01-19T15:42:31.001Z"
   },
   {
    "duration": 34,
    "start_time": "2023-01-19T15:42:37.096Z"
   },
   {
    "duration": 1340,
    "start_time": "2023-01-19T15:43:18.891Z"
   },
   {
    "duration": 5,
    "start_time": "2023-01-19T15:43:26.255Z"
   },
   {
    "duration": 14,
    "start_time": "2023-01-19T15:44:18.695Z"
   },
   {
    "duration": 6,
    "start_time": "2023-01-19T15:44:30.983Z"
   },
   {
    "duration": 15,
    "start_time": "2023-01-19T15:45:23.887Z"
   },
   {
    "duration": 4,
    "start_time": "2023-01-19T15:45:41.884Z"
   },
   {
    "duration": 4,
    "start_time": "2023-01-19T15:45:45.811Z"
   },
   {
    "duration": 4,
    "start_time": "2023-01-19T15:45:50.039Z"
   },
   {
    "duration": 5,
    "start_time": "2023-01-19T15:45:51.883Z"
   },
   {
    "duration": 1425,
    "start_time": "2023-01-19T15:45:57.033Z"
   },
   {
    "duration": 38,
    "start_time": "2023-01-19T15:45:58.460Z"
   },
   {
    "duration": 30,
    "start_time": "2023-01-19T15:45:58.500Z"
   },
   {
    "duration": 6,
    "start_time": "2023-01-19T15:45:58.532Z"
   },
   {
    "duration": 13,
    "start_time": "2023-01-19T15:46:14.820Z"
   },
   {
    "duration": 115,
    "start_time": "2023-01-19T15:50:48.898Z"
   },
   {
    "duration": 12,
    "start_time": "2023-01-19T15:50:55.336Z"
   },
   {
    "duration": 24,
    "start_time": "2023-01-19T15:51:16.740Z"
   },
   {
    "duration": 20,
    "start_time": "2023-01-19T15:52:59.261Z"
   },
   {
    "duration": 16,
    "start_time": "2023-01-19T15:55:24.337Z"
   },
   {
    "duration": 12,
    "start_time": "2023-01-19T15:55:34.457Z"
   },
   {
    "duration": 74,
    "start_time": "2023-01-19T15:57:16.964Z"
   },
   {
    "duration": 17,
    "start_time": "2023-01-19T15:57:42.907Z"
   },
   {
    "duration": 1461,
    "start_time": "2023-01-19T15:58:01.885Z"
   },
   {
    "duration": 38,
    "start_time": "2023-01-19T15:58:03.349Z"
   },
   {
    "duration": 33,
    "start_time": "2023-01-19T15:58:03.389Z"
   },
   {
    "duration": 16,
    "start_time": "2023-01-19T15:58:03.424Z"
   },
   {
    "duration": 116,
    "start_time": "2023-01-19T16:02:42.269Z"
   },
   {
    "duration": 29,
    "start_time": "2023-01-19T16:02:50.381Z"
   },
   {
    "duration": 7,
    "start_time": "2023-01-19T16:14:15.859Z"
   },
   {
    "duration": 8,
    "start_time": "2023-01-19T16:14:17.542Z"
   },
   {
    "duration": 7,
    "start_time": "2023-01-19T16:18:58.195Z"
   },
   {
    "duration": 6,
    "start_time": "2023-01-19T16:18:59.421Z"
   },
   {
    "duration": 119,
    "start_time": "2023-01-19T16:26:43.446Z"
   },
   {
    "duration": 69,
    "start_time": "2023-01-19T16:26:54.034Z"
   },
   {
    "duration": 18,
    "start_time": "2023-01-19T16:27:14.832Z"
   },
   {
    "duration": 20,
    "start_time": "2023-01-19T16:27:17.581Z"
   },
   {
    "duration": 18,
    "start_time": "2023-01-19T16:27:18.885Z"
   },
   {
    "duration": 1524,
    "start_time": "2023-01-19T16:27:25.480Z"
   },
   {
    "duration": 39,
    "start_time": "2023-01-19T16:27:27.006Z"
   },
   {
    "duration": 30,
    "start_time": "2023-01-19T16:27:27.047Z"
   },
   {
    "duration": 12,
    "start_time": "2023-01-19T16:27:27.079Z"
   },
   {
    "duration": 41,
    "start_time": "2023-01-19T16:27:27.093Z"
   },
   {
    "duration": 72,
    "start_time": "2023-01-19T16:27:27.136Z"
   },
   {
    "duration": 69,
    "start_time": "2023-01-19T16:27:56.210Z"
   },
   {
    "duration": 83,
    "start_time": "2023-01-19T16:28:17.925Z"
   },
   {
    "duration": 9,
    "start_time": "2023-01-19T16:28:26.314Z"
   },
   {
    "duration": 5,
    "start_time": "2023-01-19T16:29:30.197Z"
   },
   {
    "duration": 122,
    "start_time": "2023-01-19T16:33:42.857Z"
   },
   {
    "duration": 11,
    "start_time": "2023-01-19T16:33:50.190Z"
   },
   {
    "duration": 19,
    "start_time": "2023-01-19T16:36:01.189Z"
   },
   {
    "duration": 1485,
    "start_time": "2023-01-19T16:36:09.077Z"
   },
   {
    "duration": 38,
    "start_time": "2023-01-19T16:36:10.564Z"
   },
   {
    "duration": 32,
    "start_time": "2023-01-19T16:36:10.604Z"
   },
   {
    "duration": 7,
    "start_time": "2023-01-19T16:36:10.638Z"
   },
   {
    "duration": 40,
    "start_time": "2023-01-19T16:36:10.648Z"
   },
   {
    "duration": 8,
    "start_time": "2023-01-19T16:36:10.690Z"
   },
   {
    "duration": 4,
    "start_time": "2023-01-19T16:36:10.700Z"
   },
   {
    "duration": 5,
    "start_time": "2023-01-19T16:36:10.706Z"
   },
   {
    "duration": 3,
    "start_time": "2023-01-19T16:36:46.325Z"
   },
   {
    "duration": 113,
    "start_time": "2023-01-19T16:38:28.250Z"
   },
   {
    "duration": 11,
    "start_time": "2023-01-19T16:39:18.926Z"
   },
   {
    "duration": 7,
    "start_time": "2023-01-19T16:39:19.408Z"
   },
   {
    "duration": 8,
    "start_time": "2023-01-19T16:39:19.998Z"
   },
   {
    "duration": 3,
    "start_time": "2023-01-19T16:39:23.156Z"
   },
   {
    "duration": 10,
    "start_time": "2023-01-19T16:39:23.830Z"
   },
   {
    "duration": 7,
    "start_time": "2023-01-19T16:40:18.231Z"
   },
   {
    "duration": 6,
    "start_time": "2023-01-19T16:40:20.480Z"
   },
   {
    "duration": 3,
    "start_time": "2023-01-19T16:40:22.295Z"
   },
   {
    "duration": 7,
    "start_time": "2023-01-19T16:40:54.612Z"
   },
   {
    "duration": 7,
    "start_time": "2023-01-19T16:42:48.750Z"
   },
   {
    "duration": 1459,
    "start_time": "2023-01-19T16:43:05.204Z"
   },
   {
    "duration": 45,
    "start_time": "2023-01-19T16:43:06.665Z"
   },
   {
    "duration": 29,
    "start_time": "2023-01-19T16:43:06.712Z"
   },
   {
    "duration": 6,
    "start_time": "2023-01-19T16:43:06.743Z"
   },
   {
    "duration": 34,
    "start_time": "2023-01-19T16:43:06.751Z"
   },
   {
    "duration": 8,
    "start_time": "2023-01-19T16:43:06.787Z"
   },
   {
    "duration": 12,
    "start_time": "2023-01-19T16:43:06.796Z"
   },
   {
    "duration": 8,
    "start_time": "2023-01-19T16:43:06.810Z"
   },
   {
    "duration": 6,
    "start_time": "2023-01-19T16:43:06.820Z"
   },
   {
    "duration": 18,
    "start_time": "2023-01-19T16:43:06.827Z"
   },
   {
    "duration": 25,
    "start_time": "2023-01-19T16:44:18.906Z"
   },
   {
    "duration": 28,
    "start_time": "2023-01-19T16:46:24.024Z"
   },
   {
    "duration": 122,
    "start_time": "2023-01-19T16:52:24.853Z"
   },
   {
    "duration": 1506,
    "start_time": "2023-01-19T16:53:03.850Z"
   },
   {
    "duration": 38,
    "start_time": "2023-01-19T16:53:05.358Z"
   },
   {
    "duration": 30,
    "start_time": "2023-01-19T16:53:05.398Z"
   },
   {
    "duration": 7,
    "start_time": "2023-01-19T16:53:05.430Z"
   },
   {
    "duration": 45,
    "start_time": "2023-01-19T16:53:05.440Z"
   },
   {
    "duration": 10,
    "start_time": "2023-01-19T16:53:05.487Z"
   },
   {
    "duration": 24,
    "start_time": "2023-01-19T16:53:05.499Z"
   },
   {
    "duration": 16,
    "start_time": "2023-01-19T16:53:05.526Z"
   },
   {
    "duration": 20,
    "start_time": "2023-01-19T16:53:05.544Z"
   },
   {
    "duration": 34,
    "start_time": "2023-01-19T16:53:05.566Z"
   },
   {
    "duration": 3018,
    "start_time": "2023-01-19T16:53:05.602Z"
   },
   {
    "duration": 3107,
    "start_time": "2023-01-19T16:53:47.910Z"
   },
   {
    "duration": 225,
    "start_time": "2023-01-19T16:55:35.911Z"
   },
   {
    "duration": 19,
    "start_time": "2023-01-19T16:56:04.493Z"
   },
   {
    "duration": 24,
    "start_time": "2023-01-19T16:56:23.699Z"
   },
   {
    "duration": 24,
    "start_time": "2023-01-19T16:56:32.250Z"
   },
   {
    "duration": 36626,
    "start_time": "2023-01-19T16:57:54.767Z"
   },
   {
    "duration": 77,
    "start_time": "2023-01-19T16:58:39.907Z"
   },
   {
    "duration": 605,
    "start_time": "2023-01-19T16:59:03.836Z"
   },
   {
    "duration": 586,
    "start_time": "2023-01-19T16:59:10.231Z"
   },
   {
    "duration": 71857,
    "start_time": "2023-01-19T16:59:56.886Z"
   },
   {
    "duration": 15,
    "start_time": "2023-01-19T17:02:30.103Z"
   },
   {
    "duration": 1425,
    "start_time": "2023-01-19T17:03:41.437Z"
   },
   {
    "duration": 39,
    "start_time": "2023-01-19T17:03:42.864Z"
   },
   {
    "duration": 31,
    "start_time": "2023-01-19T17:03:42.904Z"
   },
   {
    "duration": 7,
    "start_time": "2023-01-19T17:03:42.936Z"
   },
   {
    "duration": 43,
    "start_time": "2023-01-19T17:03:42.945Z"
   },
   {
    "duration": 8,
    "start_time": "2023-01-19T17:03:42.990Z"
   },
   {
    "duration": 8,
    "start_time": "2023-01-19T17:03:43.000Z"
   },
   {
    "duration": 16,
    "start_time": "2023-01-19T17:03:43.010Z"
   },
   {
    "duration": 7,
    "start_time": "2023-01-19T17:03:43.028Z"
   },
   {
    "duration": 47,
    "start_time": "2023-01-19T17:03:43.037Z"
   },
   {
    "duration": 3004,
    "start_time": "2023-01-19T17:03:43.086Z"
   },
   {
    "duration": 25,
    "start_time": "2023-01-19T17:03:46.092Z"
   },
   {
    "duration": 70616,
    "start_time": "2023-01-19T17:03:46.119Z"
   },
   {
    "duration": 569,
    "start_time": "2023-01-19T17:04:56.737Z"
   },
   {
    "duration": 335,
    "start_time": "2023-01-19T17:05:27.392Z"
   },
   {
    "duration": 301,
    "start_time": "2023-01-19T17:06:22.588Z"
   },
   {
    "duration": 36296,
    "start_time": "2023-01-19T17:06:22.891Z"
   },
   {
    "duration": 53,
    "start_time": "2023-01-19T17:07:32.237Z"
   },
   {
    "duration": 13068,
    "start_time": "2023-01-19T17:12:21.020Z"
   },
   {
    "duration": 24,
    "start_time": "2023-01-19T17:12:47.189Z"
   },
   {
    "duration": 25,
    "start_time": "2023-01-19T17:12:51.875Z"
   },
   {
    "duration": 8,
    "start_time": "2023-01-19T17:14:34.323Z"
   },
   {
    "duration": 7,
    "start_time": "2023-01-19T17:15:31.027Z"
   },
   {
    "duration": 537,
    "start_time": "2023-01-19T17:22:12.393Z"
   },
   {
    "duration": 28,
    "start_time": "2023-01-19T17:22:49.591Z"
   },
   {
    "duration": 23,
    "start_time": "2023-01-19T17:23:38.176Z"
   },
   {
    "duration": 13493,
    "start_time": "2023-01-19T17:26:41.900Z"
   },
   {
    "duration": 7,
    "start_time": "2023-01-19T17:28:18.201Z"
   },
   {
    "duration": 5,
    "start_time": "2023-01-19T17:32:14.519Z"
   },
   {
    "duration": 15,
    "start_time": "2023-01-19T17:34:03.674Z"
   },
   {
    "duration": 872,
    "start_time": "2023-01-19T17:34:13.223Z"
   },
   {
    "duration": 805,
    "start_time": "2023-01-19T17:35:21.580Z"
   },
   {
    "duration": 937,
    "start_time": "2023-01-19T17:38:29.467Z"
   },
   {
    "duration": 867,
    "start_time": "2023-01-19T17:39:34.229Z"
   },
   {
    "duration": 45,
    "start_time": "2023-01-19T21:07:47.585Z"
   },
   {
    "duration": 1529,
    "start_time": "2023-01-19T21:07:50.935Z"
   },
   {
    "duration": 170,
    "start_time": "2023-01-19T21:07:52.467Z"
   },
   {
    "duration": 36,
    "start_time": "2023-01-19T21:07:52.639Z"
   },
   {
    "duration": 7,
    "start_time": "2023-01-19T21:08:08.706Z"
   },
   {
    "duration": 1436,
    "start_time": "2023-01-19T21:10:02.161Z"
   },
   {
    "duration": 39,
    "start_time": "2023-01-19T21:10:03.599Z"
   },
   {
    "duration": 48,
    "start_time": "2023-01-19T21:10:03.640Z"
   },
   {
    "duration": 5,
    "start_time": "2023-01-19T21:10:03.689Z"
   },
   {
    "duration": 11,
    "start_time": "2023-01-19T21:10:03.696Z"
   },
   {
    "duration": 25,
    "start_time": "2023-01-19T21:10:03.709Z"
   },
   {
    "duration": 17,
    "start_time": "2023-01-19T21:10:03.736Z"
   },
   {
    "duration": 14,
    "start_time": "2023-01-19T21:10:03.755Z"
   },
   {
    "duration": 7,
    "start_time": "2023-01-19T21:10:03.770Z"
   },
   {
    "duration": 6,
    "start_time": "2023-01-19T21:10:03.778Z"
   },
   {
    "duration": 30,
    "start_time": "2023-01-19T21:10:03.785Z"
   },
   {
    "duration": 2846,
    "start_time": "2023-01-19T21:10:03.816Z"
   },
   {
    "duration": 21,
    "start_time": "2023-01-19T21:10:06.664Z"
   },
   {
    "duration": 60919,
    "start_time": "2023-01-19T21:10:06.687Z"
   },
   {
    "duration": 497,
    "start_time": "2023-01-19T21:11:07.608Z"
   },
   {
    "duration": 10461,
    "start_time": "2023-01-19T21:11:08.107Z"
   },
   {
    "duration": 180,
    "start_time": "2023-01-19T21:11:18.570Z"
   },
   {
    "duration": 115,
    "start_time": "2023-01-19T21:11:18.752Z"
   },
   {
    "duration": 8,
    "start_time": "2023-01-19T21:11:18.869Z"
   },
   {
    "duration": 772,
    "start_time": "2023-01-19T21:11:18.879Z"
   },
   {
    "duration": 1281,
    "start_time": "2023-01-19T21:13:02.884Z"
   },
   {
    "duration": 42,
    "start_time": "2023-01-19T21:13:04.167Z"
   },
   {
    "duration": 27,
    "start_time": "2023-01-19T21:13:04.211Z"
   },
   {
    "duration": 5,
    "start_time": "2023-01-19T21:13:04.240Z"
   },
   {
    "duration": 28,
    "start_time": "2023-01-19T21:13:04.247Z"
   },
   {
    "duration": 17,
    "start_time": "2023-01-19T21:13:04.277Z"
   },
   {
    "duration": 7,
    "start_time": "2023-01-19T21:13:04.296Z"
   },
   {
    "duration": 9,
    "start_time": "2023-01-19T21:13:04.304Z"
   },
   {
    "duration": 10,
    "start_time": "2023-01-19T21:13:04.314Z"
   },
   {
    "duration": 9,
    "start_time": "2023-01-19T21:13:04.326Z"
   },
   {
    "duration": 42,
    "start_time": "2023-01-19T21:13:04.337Z"
   },
   {
    "duration": 2440,
    "start_time": "2023-01-19T21:13:04.381Z"
   },
   {
    "duration": 35,
    "start_time": "2023-01-19T21:13:06.823Z"
   },
   {
    "duration": 55718,
    "start_time": "2023-01-19T21:13:06.868Z"
   },
   {
    "duration": 475,
    "start_time": "2023-01-19T21:14:02.588Z"
   },
   {
    "duration": 10219,
    "start_time": "2023-01-19T21:14:03.065Z"
   },
   {
    "duration": 81,
    "start_time": "2023-01-19T21:14:13.288Z"
   },
   {
    "duration": 104,
    "start_time": "2023-01-19T21:14:13.386Z"
   },
   {
    "duration": 26,
    "start_time": "2023-01-19T21:14:13.548Z"
   },
   {
    "duration": 713,
    "start_time": "2023-01-19T21:14:13.576Z"
   },
   {
    "duration": 14,
    "start_time": "2023-01-19T21:15:53.132Z"
   },
   {
    "duration": 1335,
    "start_time": "2023-01-19T21:21:08.103Z"
   },
   {
    "duration": 55,
    "start_time": "2023-01-19T21:21:09.440Z"
   },
   {
    "duration": 23,
    "start_time": "2023-01-19T21:21:09.497Z"
   },
   {
    "duration": 5,
    "start_time": "2023-01-19T21:21:09.521Z"
   },
   {
    "duration": 8,
    "start_time": "2023-01-19T21:21:09.528Z"
   },
   {
    "duration": 26,
    "start_time": "2023-01-19T21:21:09.538Z"
   },
   {
    "duration": 27,
    "start_time": "2023-01-19T21:21:09.565Z"
   },
   {
    "duration": 15,
    "start_time": "2023-01-19T21:21:09.594Z"
   },
   {
    "duration": 9,
    "start_time": "2023-01-19T21:21:09.611Z"
   },
   {
    "duration": 6,
    "start_time": "2023-01-19T21:21:09.621Z"
   },
   {
    "duration": 38,
    "start_time": "2023-01-19T21:21:09.628Z"
   },
   {
    "duration": 2483,
    "start_time": "2023-01-19T21:21:09.670Z"
   },
   {
    "duration": 24,
    "start_time": "2023-01-19T21:21:12.154Z"
   },
   {
    "duration": 58258,
    "start_time": "2023-01-19T21:21:12.183Z"
   },
   {
    "duration": 479,
    "start_time": "2023-01-19T21:22:10.443Z"
   },
   {
    "duration": 10136,
    "start_time": "2023-01-19T21:22:10.924Z"
   },
   {
    "duration": 98,
    "start_time": "2023-01-19T21:22:21.062Z"
   },
   {
    "duration": 94,
    "start_time": "2023-01-19T21:22:21.162Z"
   },
   {
    "duration": 37,
    "start_time": "2023-01-19T21:22:21.258Z"
   },
   {
    "duration": 684,
    "start_time": "2023-01-19T21:22:21.297Z"
   },
   {
    "duration": 73,
    "start_time": "2023-01-19T21:22:21.983Z"
   },
   {
    "duration": 453,
    "start_time": "2023-01-19T21:22:34.323Z"
   },
   {
    "duration": 21,
    "start_time": "2023-01-19T21:22:47.091Z"
   },
   {
    "duration": 462,
    "start_time": "2023-01-19T21:22:53.170Z"
   },
   {
    "duration": 2069,
    "start_time": "2023-01-19T21:23:02.867Z"
   },
   {
    "duration": 22,
    "start_time": "2023-01-19T21:29:11.038Z"
   },
   {
    "duration": 68,
    "start_time": "2023-01-19T21:29:26.812Z"
   },
   {
    "duration": 1357,
    "start_time": "2023-01-19T21:32:36.898Z"
   },
   {
    "duration": 54,
    "start_time": "2023-01-19T21:32:38.257Z"
   },
   {
    "duration": 34,
    "start_time": "2023-01-19T21:32:38.313Z"
   },
   {
    "duration": 5,
    "start_time": "2023-01-19T21:32:38.350Z"
   },
   {
    "duration": 7,
    "start_time": "2023-01-19T21:32:38.357Z"
   },
   {
    "duration": 21,
    "start_time": "2023-01-19T21:32:38.365Z"
   },
   {
    "duration": 13,
    "start_time": "2023-01-19T21:32:38.388Z"
   },
   {
    "duration": 147,
    "start_time": "2023-01-19T21:32:38.402Z"
   },
   {
    "duration": 0,
    "start_time": "2023-01-19T21:32:38.551Z"
   },
   {
    "duration": 0,
    "start_time": "2023-01-19T21:32:38.552Z"
   },
   {
    "duration": 0,
    "start_time": "2023-01-19T21:32:38.553Z"
   },
   {
    "duration": 0,
    "start_time": "2023-01-19T21:32:38.554Z"
   },
   {
    "duration": 0,
    "start_time": "2023-01-19T21:32:38.556Z"
   },
   {
    "duration": 0,
    "start_time": "2023-01-19T21:32:38.557Z"
   },
   {
    "duration": 0,
    "start_time": "2023-01-19T21:32:38.558Z"
   },
   {
    "duration": 0,
    "start_time": "2023-01-19T21:32:38.559Z"
   },
   {
    "duration": 0,
    "start_time": "2023-01-19T21:32:38.560Z"
   },
   {
    "duration": 0,
    "start_time": "2023-01-19T21:32:38.561Z"
   },
   {
    "duration": 0,
    "start_time": "2023-01-19T21:32:38.562Z"
   },
   {
    "duration": 0,
    "start_time": "2023-01-19T21:32:38.563Z"
   },
   {
    "duration": 0,
    "start_time": "2023-01-19T21:32:38.566Z"
   },
   {
    "duration": 1281,
    "start_time": "2023-01-19T21:33:52.241Z"
   },
   {
    "duration": 39,
    "start_time": "2023-01-19T21:33:53.523Z"
   },
   {
    "duration": 24,
    "start_time": "2023-01-19T21:33:53.564Z"
   },
   {
    "duration": 4,
    "start_time": "2023-01-19T21:33:53.590Z"
   },
   {
    "duration": 9,
    "start_time": "2023-01-19T21:33:53.596Z"
   },
   {
    "duration": 21,
    "start_time": "2023-01-19T21:33:53.607Z"
   },
   {
    "duration": 8,
    "start_time": "2023-01-19T21:33:53.647Z"
   },
   {
    "duration": 9,
    "start_time": "2023-01-19T21:33:53.657Z"
   },
   {
    "duration": 15,
    "start_time": "2023-01-19T21:33:53.667Z"
   },
   {
    "duration": 11,
    "start_time": "2023-01-19T21:33:53.685Z"
   },
   {
    "duration": 31,
    "start_time": "2023-01-19T21:33:53.698Z"
   },
   {
    "duration": 2621,
    "start_time": "2023-01-19T21:33:53.730Z"
   },
   {
    "duration": 20,
    "start_time": "2023-01-19T21:33:56.353Z"
   },
   {
    "duration": 57746,
    "start_time": "2023-01-19T21:33:56.375Z"
   },
   {
    "duration": 1929,
    "start_time": "2023-01-19T21:34:54.122Z"
   },
   {
    "duration": 12499,
    "start_time": "2023-01-19T21:34:56.052Z"
   },
   {
    "duration": 102,
    "start_time": "2023-01-19T21:35:08.553Z"
   },
   {
    "duration": 97,
    "start_time": "2023-01-19T21:35:08.657Z"
   },
   {
    "duration": 105,
    "start_time": "2023-01-19T21:35:08.756Z"
   },
   {
    "duration": 687,
    "start_time": "2023-01-19T21:35:08.862Z"
   },
   {
    "duration": 102,
    "start_time": "2023-01-19T21:35:09.552Z"
   },
   {
    "duration": 158,
    "start_time": "2023-01-19T21:35:10.784Z"
   },
   {
    "duration": 19,
    "start_time": "2023-01-19T21:35:18.389Z"
   },
   {
    "duration": 439,
    "start_time": "2023-01-19T21:38:17.475Z"
   },
   {
    "duration": 480,
    "start_time": "2023-01-19T21:38:48.987Z"
   },
   {
    "duration": 13,
    "start_time": "2023-01-19T21:44:02.188Z"
   },
   {
    "duration": 16,
    "start_time": "2023-01-19T21:44:07.362Z"
   },
   {
    "duration": 1286,
    "start_time": "2023-01-19T21:44:19.555Z"
   },
   {
    "duration": 38,
    "start_time": "2023-01-19T21:44:20.843Z"
   },
   {
    "duration": 24,
    "start_time": "2023-01-19T21:44:20.883Z"
   },
   {
    "duration": 4,
    "start_time": "2023-01-19T21:44:20.909Z"
   },
   {
    "duration": 7,
    "start_time": "2023-01-19T21:44:20.915Z"
   },
   {
    "duration": 16,
    "start_time": "2023-01-19T21:44:20.924Z"
   },
   {
    "duration": 11,
    "start_time": "2023-01-19T21:44:20.941Z"
   },
   {
    "duration": 6,
    "start_time": "2023-01-19T21:44:20.953Z"
   },
   {
    "duration": 6,
    "start_time": "2023-01-19T21:44:20.960Z"
   },
   {
    "duration": 4,
    "start_time": "2023-01-19T21:44:20.969Z"
   },
   {
    "duration": 27,
    "start_time": "2023-01-19T21:44:20.974Z"
   },
   {
    "duration": 2581,
    "start_time": "2023-01-19T21:44:21.002Z"
   },
   {
    "duration": 20,
    "start_time": "2023-01-19T21:44:23.584Z"
   },
   {
    "duration": 59528,
    "start_time": "2023-01-19T21:44:23.605Z"
   },
   {
    "duration": 446,
    "start_time": "2023-01-19T21:45:23.135Z"
   },
   {
    "duration": 12969,
    "start_time": "2023-01-19T21:45:23.583Z"
   },
   {
    "duration": 103,
    "start_time": "2023-01-19T21:45:36.554Z"
   },
   {
    "duration": 100,
    "start_time": "2023-01-19T21:45:36.749Z"
   },
   {
    "duration": 7,
    "start_time": "2023-01-19T21:45:36.850Z"
   },
   {
    "duration": 492,
    "start_time": "2023-01-19T21:45:36.858Z"
   },
   {
    "duration": 297,
    "start_time": "2023-01-19T21:45:37.352Z"
   },
   {
    "duration": 0,
    "start_time": "2023-01-19T21:45:37.651Z"
   },
   {
    "duration": 29,
    "start_time": "2023-01-19T21:47:20.358Z"
   },
   {
    "duration": 477,
    "start_time": "2023-01-19T21:47:50.982Z"
   },
   {
    "duration": 33,
    "start_time": "2023-01-19T21:48:10.646Z"
   },
   {
    "duration": 9,
    "start_time": "2023-01-19T21:48:26.226Z"
   },
   {
    "duration": 8,
    "start_time": "2023-01-19T21:48:32.759Z"
   },
   {
    "duration": 639,
    "start_time": "2023-01-19T21:50:32.429Z"
   },
   {
    "duration": 1250,
    "start_time": "2023-01-19T21:51:46.494Z"
   },
   {
    "duration": 38,
    "start_time": "2023-01-19T21:51:47.745Z"
   },
   {
    "duration": 24,
    "start_time": "2023-01-19T21:51:47.784Z"
   },
   {
    "duration": 5,
    "start_time": "2023-01-19T21:51:47.809Z"
   },
   {
    "duration": 10,
    "start_time": "2023-01-19T21:51:47.816Z"
   },
   {
    "duration": 35,
    "start_time": "2023-01-19T21:51:47.828Z"
   },
   {
    "duration": 6,
    "start_time": "2023-01-19T21:51:47.864Z"
   },
   {
    "duration": 14,
    "start_time": "2023-01-19T21:51:47.872Z"
   },
   {
    "duration": 32,
    "start_time": "2023-01-19T21:51:47.888Z"
   },
   {
    "duration": 5,
    "start_time": "2023-01-19T21:51:47.921Z"
   },
   {
    "duration": 33,
    "start_time": "2023-01-19T21:51:47.927Z"
   },
   {
    "duration": 2600,
    "start_time": "2023-01-19T21:51:47.962Z"
   },
   {
    "duration": 20,
    "start_time": "2023-01-19T21:51:50.563Z"
   },
   {
    "duration": 57903,
    "start_time": "2023-01-19T21:51:50.586Z"
   },
   {
    "duration": 447,
    "start_time": "2023-01-19T21:52:48.490Z"
   },
   {
    "duration": 13120,
    "start_time": "2023-01-19T21:52:48.938Z"
   },
   {
    "duration": 107,
    "start_time": "2023-01-19T21:53:02.150Z"
   },
   {
    "duration": 192,
    "start_time": "2023-01-19T21:53:02.260Z"
   },
   {
    "duration": 11,
    "start_time": "2023-01-19T21:53:02.454Z"
   },
   {
    "duration": 491,
    "start_time": "2023-01-19T21:53:02.466Z"
   },
   {
    "duration": 189,
    "start_time": "2023-01-19T21:53:02.959Z"
   },
   {
    "duration": 605,
    "start_time": "2023-01-19T21:53:03.150Z"
   },
   {
    "duration": 97,
    "start_time": "2023-01-19T21:53:03.757Z"
   },
   {
    "duration": 49,
    "start_time": "2023-01-19T21:55:50.619Z"
   },
   {
    "duration": 99,
    "start_time": "2023-01-19T22:00:19.614Z"
   },
   {
    "duration": 11,
    "start_time": "2023-01-19T22:00:26.784Z"
   },
   {
    "duration": 289,
    "start_time": "2023-01-19T22:01:20.497Z"
   },
   {
    "duration": 44,
    "start_time": "2023-01-19T22:01:56.274Z"
   },
   {
    "duration": 1286,
    "start_time": "2023-01-19T22:02:42.470Z"
   },
   {
    "duration": 40,
    "start_time": "2023-01-19T22:02:43.758Z"
   },
   {
    "duration": 24,
    "start_time": "2023-01-19T22:02:43.800Z"
   },
   {
    "duration": 5,
    "start_time": "2023-01-19T22:02:43.826Z"
   },
   {
    "duration": 16,
    "start_time": "2023-01-19T22:02:43.832Z"
   },
   {
    "duration": 17,
    "start_time": "2023-01-19T22:02:43.850Z"
   },
   {
    "duration": 7,
    "start_time": "2023-01-19T22:02:43.868Z"
   },
   {
    "duration": 14,
    "start_time": "2023-01-19T22:02:43.876Z"
   },
   {
    "duration": 8,
    "start_time": "2023-01-19T22:02:43.892Z"
   },
   {
    "duration": 9,
    "start_time": "2023-01-19T22:02:43.901Z"
   },
   {
    "duration": 26,
    "start_time": "2023-01-19T22:02:43.911Z"
   },
   {
    "duration": 2704,
    "start_time": "2023-01-19T22:02:43.947Z"
   },
   {
    "duration": 20,
    "start_time": "2023-01-19T22:02:46.653Z"
   },
   {
    "duration": 57672,
    "start_time": "2023-01-19T22:02:46.675Z"
   },
   {
    "duration": 476,
    "start_time": "2023-01-19T22:03:44.349Z"
   },
   {
    "duration": 12729,
    "start_time": "2023-01-19T22:03:44.826Z"
   },
   {
    "duration": 197,
    "start_time": "2023-01-19T22:03:57.557Z"
   },
   {
    "duration": 101,
    "start_time": "2023-01-19T22:03:57.758Z"
   },
   {
    "duration": 89,
    "start_time": "2023-01-19T22:03:57.860Z"
   },
   {
    "duration": 499,
    "start_time": "2023-01-19T22:03:57.951Z"
   },
   {
    "duration": 104,
    "start_time": "2023-01-19T22:03:58.452Z"
   },
   {
    "duration": 640,
    "start_time": "2023-01-19T22:03:58.557Z"
   },
   {
    "duration": 54,
    "start_time": "2023-01-19T22:03:59.198Z"
   },
   {
    "duration": 95,
    "start_time": "2023-01-19T22:03:59.254Z"
   },
   {
    "duration": 388,
    "start_time": "2023-01-19T22:03:59.352Z"
   },
   {
    "duration": 48,
    "start_time": "2023-01-19T22:03:59.741Z"
   },
   {
    "duration": 6,
    "start_time": "2023-01-19T22:08:07.843Z"
   },
   {
    "duration": 1375,
    "start_time": "2023-01-19T22:08:44.115Z"
   },
   {
    "duration": 39,
    "start_time": "2023-01-19T22:08:45.492Z"
   },
   {
    "duration": 24,
    "start_time": "2023-01-19T22:08:45.533Z"
   },
   {
    "duration": 5,
    "start_time": "2023-01-19T22:08:45.558Z"
   },
   {
    "duration": 19,
    "start_time": "2023-01-19T22:08:45.565Z"
   },
   {
    "duration": 28,
    "start_time": "2023-01-19T22:08:45.586Z"
   },
   {
    "duration": 7,
    "start_time": "2023-01-19T22:08:45.615Z"
   },
   {
    "duration": 6,
    "start_time": "2023-01-19T22:08:45.624Z"
   },
   {
    "duration": 10,
    "start_time": "2023-01-19T22:08:45.632Z"
   },
   {
    "duration": 2,
    "start_time": "2023-01-19T22:08:45.648Z"
   },
   {
    "duration": 26,
    "start_time": "2023-01-19T22:08:45.652Z"
   },
   {
    "duration": 2586,
    "start_time": "2023-01-19T22:08:45.680Z"
   },
   {
    "duration": 21,
    "start_time": "2023-01-19T22:08:48.268Z"
   },
   {
    "duration": 57866,
    "start_time": "2023-01-19T22:08:48.292Z"
   },
   {
    "duration": 449,
    "start_time": "2023-01-19T22:09:46.160Z"
   },
   {
    "duration": 12739,
    "start_time": "2023-01-19T22:09:46.611Z"
   },
   {
    "duration": 103,
    "start_time": "2023-01-19T22:09:59.357Z"
   },
   {
    "duration": 184,
    "start_time": "2023-01-19T22:09:59.464Z"
   },
   {
    "duration": 7,
    "start_time": "2023-01-19T22:09:59.650Z"
   },
   {
    "duration": 8,
    "start_time": "2023-01-19T22:09:59.658Z"
   },
   {
    "duration": 495,
    "start_time": "2023-01-19T22:09:59.668Z"
   },
   {
    "duration": 100,
    "start_time": "2023-01-19T22:10:00.248Z"
   },
   {
    "duration": 603,
    "start_time": "2023-01-19T22:10:00.350Z"
   },
   {
    "duration": 93,
    "start_time": "2023-01-19T22:10:00.955Z"
   },
   {
    "duration": 105,
    "start_time": "2023-01-19T22:10:01.051Z"
   },
   {
    "duration": 326,
    "start_time": "2023-01-19T22:10:01.158Z"
   },
   {
    "duration": 65,
    "start_time": "2023-01-19T22:10:01.486Z"
   },
   {
    "duration": 44,
    "start_time": "2023-01-19T22:11:24.421Z"
   },
   {
    "duration": 143,
    "start_time": "2023-01-19T22:19:07.646Z"
   },
   {
    "duration": 36,
    "start_time": "2023-01-19T22:19:58.377Z"
   },
   {
    "duration": 45,
    "start_time": "2023-01-19T22:20:38.538Z"
   },
   {
    "duration": 39,
    "start_time": "2023-01-19T22:21:00.667Z"
   },
   {
    "duration": 37,
    "start_time": "2023-01-19T22:22:23.784Z"
   },
   {
    "duration": 42,
    "start_time": "2023-01-19T22:22:29.039Z"
   },
   {
    "duration": 36,
    "start_time": "2023-01-19T22:22:37.984Z"
   },
   {
    "duration": 89,
    "start_time": "2023-01-19T22:25:28.845Z"
   },
   {
    "duration": 44,
    "start_time": "2023-01-19T22:26:04.158Z"
   },
   {
    "duration": 41,
    "start_time": "2023-01-19T22:26:08.952Z"
   },
   {
    "duration": 41,
    "start_time": "2023-01-19T22:26:37.668Z"
   },
   {
    "duration": 46,
    "start_time": "2023-01-19T22:27:12.516Z"
   },
   {
    "duration": 44,
    "start_time": "2023-01-19T22:28:12.093Z"
   },
   {
    "duration": 47,
    "start_time": "2023-01-19T22:28:45.404Z"
   },
   {
    "duration": 115,
    "start_time": "2023-01-19T22:30:37.876Z"
   },
   {
    "duration": 107,
    "start_time": "2023-01-19T22:30:48.597Z"
   },
   {
    "duration": 1275,
    "start_time": "2023-01-19T22:31:03.190Z"
   },
   {
    "duration": 40,
    "start_time": "2023-01-19T22:31:04.467Z"
   },
   {
    "duration": 24,
    "start_time": "2023-01-19T22:31:04.508Z"
   },
   {
    "duration": 4,
    "start_time": "2023-01-19T22:31:04.534Z"
   },
   {
    "duration": 11,
    "start_time": "2023-01-19T22:31:04.540Z"
   },
   {
    "duration": 16,
    "start_time": "2023-01-19T22:31:04.552Z"
   },
   {
    "duration": 6,
    "start_time": "2023-01-19T22:31:04.570Z"
   },
   {
    "duration": 27,
    "start_time": "2023-01-19T22:31:04.578Z"
   },
   {
    "duration": 16,
    "start_time": "2023-01-19T22:31:04.607Z"
   },
   {
    "duration": 7,
    "start_time": "2023-01-19T22:31:04.625Z"
   },
   {
    "duration": 35,
    "start_time": "2023-01-19T22:31:04.634Z"
   },
   {
    "duration": 8,
    "start_time": "2023-01-19T22:31:04.671Z"
   },
   {
    "duration": 2642,
    "start_time": "2023-01-19T22:31:04.680Z"
   },
   {
    "duration": 30,
    "start_time": "2023-01-19T22:31:07.324Z"
   },
   {
    "duration": 57515,
    "start_time": "2023-01-19T22:31:07.356Z"
   },
   {
    "duration": 493,
    "start_time": "2023-01-19T22:32:04.873Z"
   },
   {
    "duration": 12485,
    "start_time": "2023-01-19T22:32:05.368Z"
   },
   {
    "duration": 196,
    "start_time": "2023-01-19T22:32:17.855Z"
   },
   {
    "duration": 12,
    "start_time": "2023-01-19T22:32:18.147Z"
   },
   {
    "duration": 9,
    "start_time": "2023-01-19T22:32:18.160Z"
   },
   {
    "duration": 581,
    "start_time": "2023-01-19T22:32:18.170Z"
   },
   {
    "duration": 100,
    "start_time": "2023-01-19T22:32:18.753Z"
   },
   {
    "duration": 599,
    "start_time": "2023-01-19T22:32:18.854Z"
   },
   {
    "duration": 48,
    "start_time": "2023-01-19T22:32:19.455Z"
   },
   {
    "duration": 100,
    "start_time": "2023-01-19T22:32:19.549Z"
   },
   {
    "duration": 294,
    "start_time": "2023-01-19T22:32:19.650Z"
   },
   {
    "duration": 46,
    "start_time": "2023-01-19T22:32:19.947Z"
   },
   {
    "duration": 134,
    "start_time": "2023-01-19T22:32:20.051Z"
   },
   {
    "duration": 182,
    "start_time": "2023-01-19T22:32:20.186Z"
   },
   {
    "duration": 117,
    "start_time": "2023-01-19T22:32:45.028Z"
   },
   {
    "duration": 24,
    "start_time": "2023-01-19T22:39:25.056Z"
   },
   {
    "duration": 448,
    "start_time": "2023-01-19T22:39:31.171Z"
   },
   {
    "duration": 459,
    "start_time": "2023-01-19T22:39:43.715Z"
   },
   {
    "duration": 21,
    "start_time": "2023-01-19T22:39:54.345Z"
   },
   {
    "duration": 15,
    "start_time": "2023-01-19T22:40:11.864Z"
   },
   {
    "duration": 14,
    "start_time": "2023-01-19T22:40:17.685Z"
   },
   {
    "duration": 49,
    "start_time": "2023-01-19T22:40:54.818Z"
   },
   {
    "duration": 1280,
    "start_time": "2023-01-19T22:41:00.376Z"
   },
   {
    "duration": 39,
    "start_time": "2023-01-19T22:41:01.658Z"
   },
   {
    "duration": 26,
    "start_time": "2023-01-19T22:41:01.699Z"
   },
   {
    "duration": 6,
    "start_time": "2023-01-19T22:41:01.727Z"
   },
   {
    "duration": 20,
    "start_time": "2023-01-19T22:41:01.734Z"
   },
   {
    "duration": 20,
    "start_time": "2023-01-19T22:41:01.755Z"
   },
   {
    "duration": 11,
    "start_time": "2023-01-19T22:41:01.776Z"
   },
   {
    "duration": 19,
    "start_time": "2023-01-19T22:41:01.788Z"
   },
   {
    "duration": 8,
    "start_time": "2023-01-19T22:41:01.809Z"
   },
   {
    "duration": 26,
    "start_time": "2023-01-19T22:41:01.819Z"
   },
   {
    "duration": 36,
    "start_time": "2023-01-19T22:41:01.847Z"
   },
   {
    "duration": 6,
    "start_time": "2023-01-19T22:41:01.885Z"
   },
   {
    "duration": 2642,
    "start_time": "2023-01-19T22:41:01.892Z"
   },
   {
    "duration": 22,
    "start_time": "2023-01-19T22:41:04.536Z"
   },
   {
    "duration": 58134,
    "start_time": "2023-01-19T22:41:04.559Z"
   },
   {
    "duration": 474,
    "start_time": "2023-01-19T22:42:02.695Z"
   },
   {
    "duration": 12184,
    "start_time": "2023-01-19T22:42:03.171Z"
   },
   {
    "duration": 103,
    "start_time": "2023-01-19T22:42:15.358Z"
   },
   {
    "duration": 186,
    "start_time": "2023-01-19T22:42:15.464Z"
   },
   {
    "duration": 8,
    "start_time": "2023-01-19T22:42:15.651Z"
   },
   {
    "duration": 505,
    "start_time": "2023-01-19T22:42:15.660Z"
   },
   {
    "duration": 181,
    "start_time": "2023-01-19T22:42:16.167Z"
   },
   {
    "duration": 596,
    "start_time": "2023-01-19T22:42:16.350Z"
   },
   {
    "duration": 47,
    "start_time": "2023-01-19T22:42:16.948Z"
   },
   {
    "duration": 151,
    "start_time": "2023-01-19T22:42:16.997Z"
   },
   {
    "duration": 287,
    "start_time": "2023-01-19T22:42:17.150Z"
   },
   {
    "duration": 47,
    "start_time": "2023-01-19T22:42:17.438Z"
   },
   {
    "duration": 140,
    "start_time": "2023-01-19T22:42:17.547Z"
   },
   {
    "duration": 181,
    "start_time": "2023-01-19T22:42:17.688Z"
   },
   {
    "duration": 121,
    "start_time": "2023-01-19T22:46:42.046Z"
   },
   {
    "duration": 52,
    "start_time": "2023-01-19T22:47:05.142Z"
   },
   {
    "duration": 45,
    "start_time": "2023-01-19T22:48:24.754Z"
   },
   {
    "duration": 44,
    "start_time": "2023-01-19T22:48:29.272Z"
   },
   {
    "duration": 106,
    "start_time": "2023-01-19T22:48:31.554Z"
   },
   {
    "duration": 110,
    "start_time": "2023-01-19T22:49:29.478Z"
   },
   {
    "duration": 109,
    "start_time": "2023-01-19T22:50:11.663Z"
   },
   {
    "duration": 18,
    "start_time": "2023-01-19T22:50:21.068Z"
   },
   {
    "duration": 49,
    "start_time": "2023-01-19T22:50:30.764Z"
   },
   {
    "duration": 43,
    "start_time": "2023-01-19T22:51:13.267Z"
   },
   {
    "duration": 144,
    "start_time": "2023-01-19T22:51:15.171Z"
   },
   {
    "duration": 113,
    "start_time": "2023-01-19T22:58:41.648Z"
   },
   {
    "duration": 112,
    "start_time": "2023-01-19T22:58:59.248Z"
   },
   {
    "duration": 1271,
    "start_time": "2023-01-19T22:59:11.755Z"
   },
   {
    "duration": 38,
    "start_time": "2023-01-19T22:59:13.028Z"
   },
   {
    "duration": 23,
    "start_time": "2023-01-19T22:59:13.068Z"
   },
   {
    "duration": 5,
    "start_time": "2023-01-19T22:59:13.093Z"
   },
   {
    "duration": 14,
    "start_time": "2023-01-19T22:59:13.099Z"
   },
   {
    "duration": 25,
    "start_time": "2023-01-19T22:59:13.115Z"
   },
   {
    "duration": 7,
    "start_time": "2023-01-19T22:59:13.147Z"
   },
   {
    "duration": 8,
    "start_time": "2023-01-19T22:59:13.156Z"
   },
   {
    "duration": 5,
    "start_time": "2023-01-19T22:59:13.165Z"
   },
   {
    "duration": 3,
    "start_time": "2023-01-19T22:59:13.173Z"
   },
   {
    "duration": 30,
    "start_time": "2023-01-19T22:59:13.178Z"
   },
   {
    "duration": 6,
    "start_time": "2023-01-19T22:59:13.209Z"
   },
   {
    "duration": 2681,
    "start_time": "2023-01-19T22:59:13.217Z"
   },
   {
    "duration": 22,
    "start_time": "2023-01-19T22:59:15.900Z"
   },
   {
    "duration": 57867,
    "start_time": "2023-01-19T22:59:15.923Z"
   },
   {
    "duration": 463,
    "start_time": "2023-01-19T23:00:13.792Z"
   },
   {
    "duration": 12498,
    "start_time": "2023-01-19T23:00:14.256Z"
   },
   {
    "duration": 100,
    "start_time": "2023-01-19T23:00:26.756Z"
   },
   {
    "duration": 195,
    "start_time": "2023-01-19T23:00:26.857Z"
   },
   {
    "duration": 11,
    "start_time": "2023-01-19T23:00:27.053Z"
   },
   {
    "duration": 483,
    "start_time": "2023-01-19T23:00:27.066Z"
   },
   {
    "duration": 105,
    "start_time": "2023-01-19T23:00:27.552Z"
   },
   {
    "duration": 695,
    "start_time": "2023-01-19T23:00:27.661Z"
   },
   {
    "duration": 51,
    "start_time": "2023-01-19T23:00:28.357Z"
   },
   {
    "duration": 105,
    "start_time": "2023-01-19T23:00:28.450Z"
   },
   {
    "duration": 295,
    "start_time": "2023-01-19T23:00:28.556Z"
   },
   {
    "duration": 43,
    "start_time": "2023-01-19T23:00:28.852Z"
   },
   {
    "duration": 263,
    "start_time": "2023-01-19T23:00:28.951Z"
   },
   {
    "duration": 50,
    "start_time": "2023-01-19T23:00:29.216Z"
   },
   {
    "duration": 108,
    "start_time": "2023-01-19T23:00:29.267Z"
   },
   {
    "duration": 114,
    "start_time": "2023-01-19T23:04:15.415Z"
   },
   {
    "duration": 393,
    "start_time": "2023-01-19T23:12:00.474Z"
   },
   {
    "duration": 1217,
    "start_time": "2023-01-19T23:13:11.497Z"
   },
   {
    "duration": 39,
    "start_time": "2023-01-19T23:13:12.716Z"
   },
   {
    "duration": 24,
    "start_time": "2023-01-19T23:13:12.757Z"
   },
   {
    "duration": 5,
    "start_time": "2023-01-19T23:13:12.782Z"
   },
   {
    "duration": 11,
    "start_time": "2023-01-19T23:13:12.789Z"
   },
   {
    "duration": 24,
    "start_time": "2023-01-19T23:13:12.801Z"
   },
   {
    "duration": 7,
    "start_time": "2023-01-19T23:13:12.847Z"
   },
   {
    "duration": 7,
    "start_time": "2023-01-19T23:13:12.855Z"
   },
   {
    "duration": 7,
    "start_time": "2023-01-19T23:13:12.863Z"
   },
   {
    "duration": 4,
    "start_time": "2023-01-19T23:13:12.872Z"
   },
   {
    "duration": 36,
    "start_time": "2023-01-19T23:13:12.878Z"
   },
   {
    "duration": 7,
    "start_time": "2023-01-19T23:13:12.915Z"
   },
   {
    "duration": 2659,
    "start_time": "2023-01-19T23:13:12.924Z"
   },
   {
    "duration": 57731,
    "start_time": "2023-01-19T23:13:15.586Z"
   },
   {
    "duration": 12232,
    "start_time": "2023-01-19T23:14:13.319Z"
   },
   {
    "duration": 794,
    "start_time": "2023-01-19T23:14:25.553Z"
   },
   {
    "duration": 6,
    "start_time": "2023-01-19T23:14:26.350Z"
   },
   {
    "duration": 18,
    "start_time": "2023-01-19T23:14:26.357Z"
   },
   {
    "duration": 498,
    "start_time": "2023-01-19T23:14:26.377Z"
   },
   {
    "duration": 170,
    "start_time": "2023-01-19T23:14:26.878Z"
   },
   {
    "duration": 107,
    "start_time": "2023-01-19T23:14:27.050Z"
   },
   {
    "duration": 0,
    "start_time": "2023-01-19T23:14:27.159Z"
   },
   {
    "duration": 0,
    "start_time": "2023-01-19T23:14:27.160Z"
   },
   {
    "duration": 0,
    "start_time": "2023-01-19T23:14:27.162Z"
   },
   {
    "duration": 0,
    "start_time": "2023-01-19T23:14:27.163Z"
   },
   {
    "duration": 0,
    "start_time": "2023-01-19T23:14:27.164Z"
   },
   {
    "duration": 0,
    "start_time": "2023-01-19T23:14:27.165Z"
   },
   {
    "duration": 0,
    "start_time": "2023-01-19T23:14:27.166Z"
   },
   {
    "duration": 946,
    "start_time": "2023-01-19T23:19:34.747Z"
   },
   {
    "duration": 485,
    "start_time": "2023-01-19T23:26:27.995Z"
   },
   {
    "duration": 564,
    "start_time": "2023-01-19T23:27:59.488Z"
   },
   {
    "duration": 13,
    "start_time": "2023-01-19T23:33:48.992Z"
   },
   {
    "duration": 660,
    "start_time": "2023-01-19T23:36:04.419Z"
   },
   {
    "duration": 58,
    "start_time": "2023-01-19T23:38:14.207Z"
   },
   {
    "duration": 14,
    "start_time": "2023-01-19T23:39:05.820Z"
   },
   {
    "duration": 340,
    "start_time": "2023-01-19T23:40:28.910Z"
   },
   {
    "duration": 9,
    "start_time": "2023-01-19T23:47:15.590Z"
   },
   {
    "duration": 5,
    "start_time": "2023-01-19T23:47:59.856Z"
   },
   {
    "duration": 6,
    "start_time": "2023-01-19T23:48:53.873Z"
   },
   {
    "duration": 46,
    "start_time": "2023-01-19T23:51:47.540Z"
   },
   {
    "duration": 1637,
    "start_time": "2023-01-19T23:56:24.661Z"
   },
   {
    "duration": 43,
    "start_time": "2023-01-19T23:56:26.300Z"
   },
   {
    "duration": 38,
    "start_time": "2023-01-19T23:56:26.347Z"
   },
   {
    "duration": 6,
    "start_time": "2023-01-19T23:56:26.387Z"
   },
   {
    "duration": 11,
    "start_time": "2023-01-19T23:56:26.398Z"
   },
   {
    "duration": 47,
    "start_time": "2023-01-19T23:56:26.411Z"
   },
   {
    "duration": 9,
    "start_time": "2023-01-19T23:56:26.460Z"
   },
   {
    "duration": 16,
    "start_time": "2023-01-19T23:56:26.471Z"
   },
   {
    "duration": 10,
    "start_time": "2023-01-19T23:56:26.489Z"
   },
   {
    "duration": 9,
    "start_time": "2023-01-19T23:56:26.501Z"
   },
   {
    "duration": 51,
    "start_time": "2023-01-19T23:56:26.512Z"
   },
   {
    "duration": 8,
    "start_time": "2023-01-19T23:56:26.565Z"
   },
   {
    "duration": 2755,
    "start_time": "2023-01-19T23:56:26.575Z"
   },
   {
    "duration": 59779,
    "start_time": "2023-01-19T23:56:29.333Z"
   },
   {
    "duration": 9644,
    "start_time": "2023-01-19T23:57:29.113Z"
   },
   {
    "duration": 796,
    "start_time": "2023-01-19T23:57:38.759Z"
   },
   {
    "duration": 1003,
    "start_time": "2023-01-19T23:57:39.557Z"
   },
   {
    "duration": 5,
    "start_time": "2023-01-19T23:57:40.562Z"
   },
   {
    "duration": 581,
    "start_time": "2023-01-19T23:57:40.569Z"
   },
   {
    "duration": 98,
    "start_time": "2023-01-19T23:57:41.152Z"
   },
   {
    "duration": 715,
    "start_time": "2023-01-19T23:57:41.252Z"
   },
   {
    "duration": 180,
    "start_time": "2023-01-19T23:57:41.969Z"
   },
   {
    "duration": 309,
    "start_time": "2023-01-19T23:57:42.151Z"
   },
   {
    "duration": 300,
    "start_time": "2023-01-19T23:57:42.462Z"
   },
   {
    "duration": 0,
    "start_time": "2023-01-19T23:57:42.764Z"
   },
   {
    "duration": 11,
    "start_time": "2023-01-20T00:23:37.453Z"
   },
   {
    "duration": 1276,
    "start_time": "2023-01-20T01:09:26.589Z"
   },
   {
    "duration": 48,
    "start_time": "2023-01-20T01:09:27.867Z"
   },
   {
    "duration": 25,
    "start_time": "2023-01-20T01:09:27.917Z"
   },
   {
    "duration": 5,
    "start_time": "2023-01-20T01:09:27.944Z"
   },
   {
    "duration": 15,
    "start_time": "2023-01-20T01:09:27.951Z"
   },
   {
    "duration": 19,
    "start_time": "2023-01-20T01:09:27.968Z"
   },
   {
    "duration": 7,
    "start_time": "2023-01-20T01:09:27.988Z"
   },
   {
    "duration": 7,
    "start_time": "2023-01-20T01:09:27.996Z"
   },
   {
    "duration": 10,
    "start_time": "2023-01-20T01:09:28.004Z"
   },
   {
    "duration": 4,
    "start_time": "2023-01-20T01:09:28.017Z"
   },
   {
    "duration": 46,
    "start_time": "2023-01-20T01:09:28.022Z"
   },
   {
    "duration": 5,
    "start_time": "2023-01-20T01:09:28.070Z"
   },
   {
    "duration": 2619,
    "start_time": "2023-01-20T01:09:28.077Z"
   },
   {
    "duration": 58362,
    "start_time": "2023-01-20T01:09:30.700Z"
   },
   {
    "duration": 10989,
    "start_time": "2023-01-20T01:10:29.064Z"
   },
   {
    "duration": 700,
    "start_time": "2023-01-20T01:10:40.055Z"
   },
   {
    "duration": 944,
    "start_time": "2023-01-20T01:10:40.759Z"
   },
   {
    "duration": 5,
    "start_time": "2023-01-20T01:10:41.705Z"
   },
   {
    "duration": 12,
    "start_time": "2023-01-20T01:10:41.712Z"
   },
   {
    "duration": 114,
    "start_time": "2023-01-20T01:10:41.726Z"
   },
   {
    "duration": 0,
    "start_time": "2023-01-20T01:10:41.841Z"
   },
   {
    "duration": 0,
    "start_time": "2023-01-20T01:10:41.848Z"
   },
   {
    "duration": 0,
    "start_time": "2023-01-20T01:10:41.848Z"
   },
   {
    "duration": 0,
    "start_time": "2023-01-20T01:10:41.850Z"
   },
   {
    "duration": 11,
    "start_time": "2023-01-20T01:13:59.234Z"
   },
   {
    "duration": 15,
    "start_time": "2023-01-20T01:14:06.896Z"
   },
   {
    "duration": 13,
    "start_time": "2023-01-20T01:14:07.688Z"
   },
   {
    "duration": 11,
    "start_time": "2023-01-20T01:15:37.064Z"
   },
   {
    "duration": 11,
    "start_time": "2023-01-20T01:16:40.509Z"
   },
   {
    "duration": 730,
    "start_time": "2023-01-20T01:18:29.118Z"
   },
   {
    "duration": 12,
    "start_time": "2023-01-20T01:19:56.430Z"
   },
   {
    "duration": 11,
    "start_time": "2023-01-20T01:19:59.616Z"
   },
   {
    "duration": 10,
    "start_time": "2023-01-20T01:20:53.128Z"
   },
   {
    "duration": 264,
    "start_time": "2023-01-20T01:20:54.227Z"
   },
   {
    "duration": 564,
    "start_time": "2023-01-20T01:22:57.793Z"
   },
   {
    "duration": 155,
    "start_time": "2023-01-20T01:23:10.819Z"
   },
   {
    "duration": 16,
    "start_time": "2023-01-20T01:23:26.268Z"
   },
   {
    "duration": 15,
    "start_time": "2023-01-20T01:23:37.515Z"
   },
   {
    "duration": 1291,
    "start_time": "2023-01-20T01:25:16.023Z"
   },
   {
    "duration": 38,
    "start_time": "2023-01-20T01:25:17.316Z"
   },
   {
    "duration": 24,
    "start_time": "2023-01-20T01:25:17.356Z"
   },
   {
    "duration": 5,
    "start_time": "2023-01-20T01:25:17.382Z"
   },
   {
    "duration": 11,
    "start_time": "2023-01-20T01:25:17.388Z"
   },
   {
    "duration": 17,
    "start_time": "2023-01-20T01:25:17.400Z"
   },
   {
    "duration": 33,
    "start_time": "2023-01-20T01:25:17.418Z"
   },
   {
    "duration": 7,
    "start_time": "2023-01-20T01:25:17.452Z"
   },
   {
    "duration": 8,
    "start_time": "2023-01-20T01:25:17.460Z"
   },
   {
    "duration": 5,
    "start_time": "2023-01-20T01:25:17.471Z"
   },
   {
    "duration": 26,
    "start_time": "2023-01-20T01:25:17.478Z"
   },
   {
    "duration": 6,
    "start_time": "2023-01-20T01:25:17.506Z"
   },
   {
    "duration": 2617,
    "start_time": "2023-01-20T01:25:17.514Z"
   },
   {
    "duration": 58654,
    "start_time": "2023-01-20T01:25:20.133Z"
   },
   {
    "duration": 13373,
    "start_time": "2023-01-20T01:26:18.789Z"
   },
   {
    "duration": 624,
    "start_time": "2023-01-20T01:26:32.250Z"
   },
   {
    "duration": 960,
    "start_time": "2023-01-20T01:26:32.949Z"
   },
   {
    "duration": 5,
    "start_time": "2023-01-20T01:26:33.911Z"
   },
   {
    "duration": 31,
    "start_time": "2023-01-20T01:26:33.917Z"
   },
   {
    "duration": 702,
    "start_time": "2023-01-20T01:26:33.950Z"
   },
   {
    "duration": 96,
    "start_time": "2023-01-20T01:26:34.654Z"
   },
   {
    "duration": 301,
    "start_time": "2023-01-20T01:26:34.752Z"
   },
   {
    "duration": 800,
    "start_time": "2023-01-20T01:26:35.055Z"
   },
   {
    "duration": 154,
    "start_time": "2023-01-20T01:26:35.857Z"
   },
   {
    "duration": 14,
    "start_time": "2023-01-20T01:26:36.013Z"
   },
   {
    "duration": 109,
    "start_time": "2023-01-20T01:36:36.549Z"
   },
   {
    "duration": 7,
    "start_time": "2023-01-20T01:36:51.187Z"
   },
   {
    "duration": 36694,
    "start_time": "2023-01-20T01:37:04.690Z"
   },
   {
    "duration": 13,
    "start_time": "2023-01-20T01:38:00.440Z"
   },
   {
    "duration": 14,
    "start_time": "2023-01-20T01:41:09.420Z"
   },
   {
    "duration": 2016,
    "start_time": "2023-01-20T01:41:53.653Z"
   },
   {
    "duration": 96,
    "start_time": "2023-01-20T01:43:54.735Z"
   },
   {
    "duration": 100,
    "start_time": "2023-01-20T01:45:29.830Z"
   },
   {
    "duration": 209,
    "start_time": "2023-01-20T01:46:34.007Z"
   },
   {
    "duration": 14,
    "start_time": "2023-01-20T01:46:39.148Z"
   },
   {
    "duration": 1296,
    "start_time": "2023-01-20T01:47:00.229Z"
   },
   {
    "duration": 39,
    "start_time": "2023-01-20T01:47:01.527Z"
   },
   {
    "duration": 24,
    "start_time": "2023-01-20T01:47:01.568Z"
   },
   {
    "duration": 5,
    "start_time": "2023-01-20T01:47:01.594Z"
   },
   {
    "duration": 23,
    "start_time": "2023-01-20T01:47:01.601Z"
   },
   {
    "duration": 23,
    "start_time": "2023-01-20T01:47:01.626Z"
   },
   {
    "duration": 7,
    "start_time": "2023-01-20T01:47:01.650Z"
   },
   {
    "duration": 25,
    "start_time": "2023-01-20T01:47:01.659Z"
   },
   {
    "duration": 20,
    "start_time": "2023-01-20T01:47:01.685Z"
   },
   {
    "duration": 12,
    "start_time": "2023-01-20T01:47:01.707Z"
   },
   {
    "duration": 27,
    "start_time": "2023-01-20T01:47:01.721Z"
   },
   {
    "duration": 6,
    "start_time": "2023-01-20T01:47:01.750Z"
   },
   {
    "duration": 2658,
    "start_time": "2023-01-20T01:47:01.757Z"
   },
   {
    "duration": 57921,
    "start_time": "2023-01-20T01:47:04.417Z"
   },
   {
    "duration": 12111,
    "start_time": "2023-01-20T01:48:02.340Z"
   },
   {
    "duration": 600,
    "start_time": "2023-01-20T01:48:14.453Z"
   },
   {
    "duration": 1058,
    "start_time": "2023-01-20T01:48:15.056Z"
   },
   {
    "duration": 5,
    "start_time": "2023-01-20T01:48:16.115Z"
   },
   {
    "duration": 14,
    "start_time": "2023-01-20T01:48:16.121Z"
   },
   {
    "duration": 644,
    "start_time": "2023-01-20T01:48:16.136Z"
   },
   {
    "duration": 166,
    "start_time": "2023-01-20T01:48:16.782Z"
   },
   {
    "duration": 298,
    "start_time": "2023-01-20T01:48:16.950Z"
   },
   {
    "duration": 36763,
    "start_time": "2023-01-20T01:48:17.250Z"
   },
   {
    "duration": 14,
    "start_time": "2023-01-20T01:48:54.014Z"
   },
   {
    "duration": 2045,
    "start_time": "2023-01-20T01:48:54.030Z"
   },
   {
    "duration": 194,
    "start_time": "2023-01-20T01:48:56.077Z"
   },
   {
    "duration": 14,
    "start_time": "2023-01-20T01:48:56.272Z"
   },
   {
    "duration": 12068,
    "start_time": "2023-01-20T01:51:30.837Z"
   },
   {
    "duration": 12,
    "start_time": "2023-01-20T01:51:47.698Z"
   },
   {
    "duration": 607,
    "start_time": "2023-01-20T01:52:28.019Z"
   },
   {
    "duration": 129,
    "start_time": "2023-01-20T01:52:40.268Z"
   },
   {
    "duration": 16,
    "start_time": "2023-01-20T01:52:44.961Z"
   },
   {
    "duration": 7,
    "start_time": "2023-01-20T01:53:26.027Z"
   },
   {
    "duration": 1302,
    "start_time": "2023-01-20T01:53:44.810Z"
   },
   {
    "duration": 39,
    "start_time": "2023-01-20T01:53:46.114Z"
   },
   {
    "duration": 24,
    "start_time": "2023-01-20T01:53:46.155Z"
   },
   {
    "duration": 5,
    "start_time": "2023-01-20T01:53:46.181Z"
   },
   {
    "duration": 10,
    "start_time": "2023-01-20T01:53:46.187Z"
   },
   {
    "duration": 17,
    "start_time": "2023-01-20T01:53:46.198Z"
   },
   {
    "duration": 33,
    "start_time": "2023-01-20T01:53:46.216Z"
   },
   {
    "duration": 7,
    "start_time": "2023-01-20T01:53:46.251Z"
   },
   {
    "duration": 12,
    "start_time": "2023-01-20T01:53:46.259Z"
   },
   {
    "duration": 4,
    "start_time": "2023-01-20T01:53:46.273Z"
   },
   {
    "duration": 25,
    "start_time": "2023-01-20T01:53:46.278Z"
   },
   {
    "duration": 5,
    "start_time": "2023-01-20T01:53:46.304Z"
   },
   {
    "duration": 2576,
    "start_time": "2023-01-20T01:53:46.310Z"
   },
   {
    "duration": 58169,
    "start_time": "2023-01-20T01:53:48.888Z"
   },
   {
    "duration": 11792,
    "start_time": "2023-01-20T01:54:47.059Z"
   },
   {
    "duration": 702,
    "start_time": "2023-01-20T01:54:58.853Z"
   },
   {
    "duration": 952,
    "start_time": "2023-01-20T01:54:59.557Z"
   },
   {
    "duration": 5,
    "start_time": "2023-01-20T01:55:00.511Z"
   },
   {
    "duration": 51,
    "start_time": "2023-01-20T01:55:00.517Z"
   },
   {
    "duration": 709,
    "start_time": "2023-01-20T01:55:00.570Z"
   },
   {
    "duration": 103,
    "start_time": "2023-01-20T01:55:01.352Z"
   },
   {
    "duration": 327,
    "start_time": "2023-01-20T01:55:01.456Z"
   },
   {
    "duration": 98,
    "start_time": "2023-01-20T01:55:01.853Z"
   },
   {
    "duration": 149,
    "start_time": "2023-01-20T01:55:01.953Z"
   },
   {
    "duration": 0,
    "start_time": "2023-01-20T01:55:02.104Z"
   },
   {
    "duration": 0,
    "start_time": "2023-01-20T01:55:02.104Z"
   },
   {
    "duration": 0,
    "start_time": "2023-01-20T01:55:02.105Z"
   },
   {
    "duration": 9,
    "start_time": "2023-01-20T01:56:05.696Z"
   },
   {
    "duration": 8,
    "start_time": "2023-01-20T01:56:07.902Z"
   },
   {
    "duration": 36511,
    "start_time": "2023-01-20T01:57:35.778Z"
   },
   {
    "duration": 12,
    "start_time": "2023-01-20T01:58:16.394Z"
   },
   {
    "duration": 12,
    "start_time": "2023-01-20T01:58:27.831Z"
   },
   {
    "duration": 2022,
    "start_time": "2023-01-20T01:58:40.048Z"
   },
   {
    "duration": 208,
    "start_time": "2023-01-20T01:58:45.033Z"
   },
   {
    "duration": 14,
    "start_time": "2023-01-20T01:58:48.776Z"
   },
   {
    "duration": 102,
    "start_time": "2023-01-20T02:05:33.400Z"
   },
   {
    "duration": 93,
    "start_time": "2023-01-20T02:05:48.167Z"
   },
   {
    "duration": 197,
    "start_time": "2023-01-20T02:06:01.124Z"
   },
   {
    "duration": 16,
    "start_time": "2023-01-20T02:06:02.877Z"
   },
   {
    "duration": 1523,
    "start_time": "2023-01-20T09:41:11.549Z"
   },
   {
    "duration": 176,
    "start_time": "2023-01-20T09:41:13.074Z"
   },
   {
    "duration": 29,
    "start_time": "2023-01-20T09:41:13.255Z"
   },
   {
    "duration": 6,
    "start_time": "2023-01-20T09:41:13.287Z"
   },
   {
    "duration": 10,
    "start_time": "2023-01-20T09:41:13.294Z"
   },
   {
    "duration": 28,
    "start_time": "2023-01-20T09:41:13.306Z"
   },
   {
    "duration": 7,
    "start_time": "2023-01-20T09:41:13.336Z"
   },
   {
    "duration": 9,
    "start_time": "2023-01-20T09:41:13.345Z"
   },
   {
    "duration": 9,
    "start_time": "2023-01-20T09:41:13.355Z"
   },
   {
    "duration": 6,
    "start_time": "2023-01-20T09:41:13.366Z"
   },
   {
    "duration": 28,
    "start_time": "2023-01-20T09:41:13.373Z"
   },
   {
    "duration": 24,
    "start_time": "2023-01-20T09:41:13.402Z"
   },
   {
    "duration": 3069,
    "start_time": "2023-01-20T09:41:13.429Z"
   },
   {
    "duration": 65740,
    "start_time": "2023-01-20T09:41:16.499Z"
   },
   {
    "duration": 13983,
    "start_time": "2023-01-20T09:42:22.241Z"
   },
   {
    "duration": 519,
    "start_time": "2023-01-20T09:42:36.320Z"
   },
   {
    "duration": 1072,
    "start_time": "2023-01-20T09:42:36.841Z"
   },
   {
    "duration": 6,
    "start_time": "2023-01-20T09:42:37.915Z"
   },
   {
    "duration": 16,
    "start_time": "2023-01-20T09:42:37.922Z"
   },
   {
    "duration": 781,
    "start_time": "2023-01-20T09:42:37.940Z"
   },
   {
    "duration": 102,
    "start_time": "2023-01-20T09:42:38.724Z"
   },
   {
    "duration": 294,
    "start_time": "2023-01-20T09:42:38.828Z"
   },
   {
    "duration": 41124,
    "start_time": "2023-01-20T09:42:39.125Z"
   },
   {
    "duration": 15,
    "start_time": "2023-01-20T09:43:20.251Z"
   },
   {
    "duration": 2289,
    "start_time": "2023-01-20T09:43:20.268Z"
   },
   {
    "duration": 115,
    "start_time": "2023-01-20T09:43:22.559Z"
   },
   {
    "duration": 226,
    "start_time": "2023-01-20T09:43:22.675Z"
   },
   {
    "duration": 26,
    "start_time": "2023-01-20T09:43:22.903Z"
   },
   {
    "duration": 41,
    "start_time": "2023-01-20T10:33:49.826Z"
   },
   {
    "duration": 16,
    "start_time": "2023-01-20T10:34:10.601Z"
   },
   {
    "duration": 137,
    "start_time": "2023-01-20T10:34:41.814Z"
   },
   {
    "duration": 5,
    "start_time": "2023-01-20T10:35:06.484Z"
   },
   {
    "duration": 20,
    "start_time": "2023-01-20T10:35:13.456Z"
   },
   {
    "duration": 54,
    "start_time": "2023-01-20T10:36:02.052Z"
   },
   {
    "duration": 13,
    "start_time": "2023-01-20T10:36:05.545Z"
   },
   {
    "duration": 84,
    "start_time": "2023-01-21T06:06:32.643Z"
   },
   {
    "duration": 1966,
    "start_time": "2023-01-21T06:06:36.206Z"
   },
   {
    "duration": 49,
    "start_time": "2023-01-21T06:06:38.175Z"
   },
   {
    "duration": 29,
    "start_time": "2023-01-21T06:06:38.226Z"
   },
   {
    "duration": 6,
    "start_time": "2023-01-21T06:06:38.257Z"
   },
   {
    "duration": 14,
    "start_time": "2023-01-21T06:06:38.266Z"
   },
   {
    "duration": 28,
    "start_time": "2023-01-21T06:06:38.282Z"
   },
   {
    "duration": 19,
    "start_time": "2023-01-21T06:06:38.312Z"
   },
   {
    "duration": 8,
    "start_time": "2023-01-21T06:06:38.333Z"
   },
   {
    "duration": 12,
    "start_time": "2023-01-21T06:06:38.343Z"
   },
   {
    "duration": 7,
    "start_time": "2023-01-21T06:06:38.357Z"
   },
   {
    "duration": 47,
    "start_time": "2023-01-21T06:06:38.366Z"
   },
   {
    "duration": 7,
    "start_time": "2023-01-21T06:06:38.415Z"
   },
   {
    "duration": 3582,
    "start_time": "2023-01-21T06:06:38.423Z"
   },
   {
    "duration": 3502,
    "start_time": "2023-01-21T06:06:50.125Z"
   },
   {
    "duration": 1858,
    "start_time": "2023-01-24T11:42:02.070Z"
   },
   {
    "duration": 97,
    "start_time": "2023-01-24T11:42:03.932Z"
   },
   {
    "duration": 35,
    "start_time": "2023-01-24T11:42:04.031Z"
   },
   {
    "duration": 13,
    "start_time": "2023-01-24T11:42:04.068Z"
   },
   {
    "duration": 54,
    "start_time": "2023-01-24T11:42:04.085Z"
   },
   {
    "duration": 51,
    "start_time": "2023-01-24T11:42:04.141Z"
   },
   {
    "duration": 68,
    "start_time": "2023-01-24T11:42:04.195Z"
   },
   {
    "duration": 49,
    "start_time": "2023-01-24T11:42:04.265Z"
   },
   {
    "duration": 30,
    "start_time": "2023-01-24T11:42:04.316Z"
   },
   {
    "duration": 17,
    "start_time": "2023-01-24T11:42:04.348Z"
   },
   {
    "duration": 68,
    "start_time": "2023-01-24T11:42:04.367Z"
   },
   {
    "duration": 3429,
    "start_time": "2023-01-24T11:42:04.437Z"
   },
   {
    "duration": 74949,
    "start_time": "2023-01-24T11:42:07.867Z"
   },
   {
    "duration": 13472,
    "start_time": "2023-01-24T11:43:22.819Z"
   },
   {
    "duration": 713,
    "start_time": "2023-01-24T11:43:36.383Z"
   },
   {
    "duration": 1193,
    "start_time": "2023-01-24T11:43:37.098Z"
   },
   {
    "duration": 10,
    "start_time": "2023-01-24T11:43:38.293Z"
   },
   {
    "duration": 172,
    "start_time": "2023-01-24T11:43:38.305Z"
   },
   {
    "duration": 118716,
    "start_time": "2023-01-24T11:43:38.483Z"
   },
   {
    "duration": 313,
    "start_time": "2023-01-24T11:45:37.202Z"
   },
   {
    "duration": 0,
    "start_time": "2023-01-24T11:45:37.516Z"
   },
   {
    "duration": 0,
    "start_time": "2023-01-24T11:45:37.517Z"
   },
   {
    "duration": 0,
    "start_time": "2023-01-24T11:45:37.519Z"
   },
   {
    "duration": 0,
    "start_time": "2023-01-24T11:45:37.520Z"
   },
   {
    "duration": 0,
    "start_time": "2023-01-24T11:45:37.521Z"
   },
   {
    "duration": 0,
    "start_time": "2023-01-24T11:45:37.523Z"
   },
   {
    "duration": 0,
    "start_time": "2023-01-24T11:45:37.524Z"
   },
   {
    "duration": 0,
    "start_time": "2023-01-24T11:45:37.525Z"
   },
   {
    "duration": 0,
    "start_time": "2023-01-24T11:45:37.526Z"
   },
   {
    "duration": 1075,
    "start_time": "2023-01-24T11:46:27.417Z"
   },
   {
    "duration": 150,
    "start_time": "2023-01-24T11:46:37.398Z"
   },
   {
    "duration": 47042,
    "start_time": "2023-01-24T11:46:44.548Z"
   },
   {
    "duration": 14212,
    "start_time": "2023-01-24T11:49:01.512Z"
   },
   {
    "duration": 13,
    "start_time": "2023-01-24T11:49:18.787Z"
   },
   {
    "duration": 80,
    "start_time": "2023-01-24T11:49:25.048Z"
   },
   {
    "duration": 1067,
    "start_time": "2023-01-24T11:50:07.153Z"
   },
   {
    "duration": 11,
    "start_time": "2023-01-24T11:50:10.547Z"
   },
   {
    "duration": 51,
    "start_time": "2023-01-24T11:50:21.019Z"
   },
   {
    "duration": 185,
    "start_time": "2023-01-24T11:50:24.674Z"
   },
   {
    "duration": 15,
    "start_time": "2023-01-24T11:50:28.313Z"
   },
   {
    "duration": 49,
    "start_time": "2023-01-24T11:52:05.044Z"
   },
   {
    "duration": 53,
    "start_time": "2023-01-24T11:57:13.501Z"
   },
   {
    "duration": 1545,
    "start_time": "2023-01-24T11:57:33.877Z"
   },
   {
    "duration": 38,
    "start_time": "2023-01-24T11:57:35.424Z"
   },
   {
    "duration": 42,
    "start_time": "2023-01-24T11:57:35.464Z"
   },
   {
    "duration": 9,
    "start_time": "2023-01-24T11:57:35.509Z"
   },
   {
    "duration": 15,
    "start_time": "2023-01-24T11:57:35.520Z"
   },
   {
    "duration": 46,
    "start_time": "2023-01-24T11:57:35.537Z"
   },
   {
    "duration": 13,
    "start_time": "2023-01-24T11:57:35.586Z"
   },
   {
    "duration": 21,
    "start_time": "2023-01-24T11:57:35.601Z"
   },
   {
    "duration": 19,
    "start_time": "2023-01-24T11:57:35.624Z"
   },
   {
    "duration": 15,
    "start_time": "2023-01-24T11:57:35.646Z"
   },
   {
    "duration": 40,
    "start_time": "2023-01-24T11:57:35.663Z"
   },
   {
    "duration": 3164,
    "start_time": "2023-01-24T11:57:35.705Z"
   },
   {
    "duration": 70391,
    "start_time": "2023-01-24T11:57:38.871Z"
   },
   {
    "duration": 14526,
    "start_time": "2023-01-24T11:58:49.264Z"
   },
   {
    "duration": 802,
    "start_time": "2023-01-24T11:59:03.792Z"
   },
   {
    "duration": 1045,
    "start_time": "2023-01-24T11:59:04.685Z"
   },
   {
    "duration": 6,
    "start_time": "2023-01-24T11:59:05.732Z"
   },
   {
    "duration": 176,
    "start_time": "2023-01-24T11:59:05.740Z"
   },
   {
    "duration": 120472,
    "start_time": "2023-01-24T11:59:05.918Z"
   },
   {
    "duration": 1192,
    "start_time": "2023-01-24T12:01:06.393Z"
   },
   {
    "duration": 332,
    "start_time": "2023-01-24T12:01:07.587Z"
   },
   {
    "duration": 47968,
    "start_time": "2023-01-24T12:01:07.921Z"
   },
   {
    "duration": 14750,
    "start_time": "2023-01-24T12:01:55.891Z"
   },
   {
    "duration": 14,
    "start_time": "2023-01-24T12:02:10.643Z"
   },
   {
    "duration": 1025,
    "start_time": "2023-01-24T12:02:10.660Z"
   },
   {
    "duration": 56,
    "start_time": "2023-01-24T12:02:11.687Z"
   },
   {
    "duration": 191,
    "start_time": "2023-01-24T12:02:11.745Z"
   },
   {
    "duration": 16,
    "start_time": "2023-01-24T12:02:11.939Z"
   },
   {
    "duration": 1615,
    "start_time": "2023-01-24T14:51:48.076Z"
   },
   {
    "duration": 41,
    "start_time": "2023-01-24T14:51:49.693Z"
   },
   {
    "duration": 36,
    "start_time": "2023-01-24T14:51:49.737Z"
   },
   {
    "duration": 8,
    "start_time": "2023-01-24T14:51:49.776Z"
   },
   {
    "duration": 14,
    "start_time": "2023-01-24T14:51:49.786Z"
   },
   {
    "duration": 13,
    "start_time": "2023-01-24T14:51:49.801Z"
   },
   {
    "duration": 37,
    "start_time": "2023-01-24T14:51:49.816Z"
   },
   {
    "duration": 8,
    "start_time": "2023-01-24T14:51:49.855Z"
   },
   {
    "duration": 9,
    "start_time": "2023-01-24T14:51:49.864Z"
   },
   {
    "duration": 3,
    "start_time": "2023-01-24T14:51:49.875Z"
   },
   {
    "duration": 30,
    "start_time": "2023-01-24T14:51:49.880Z"
   },
   {
    "duration": 160,
    "start_time": "2023-01-24T14:51:55.144Z"
   },
   {
    "duration": 12473,
    "start_time": "2023-01-24T14:52:25.311Z"
   },
   {
    "duration": 907,
    "start_time": "2023-01-24T14:52:37.786Z"
   },
   {
    "duration": 145,
    "start_time": "2023-01-24T14:53:32.557Z"
   },
   {
    "duration": 84,
    "start_time": "2023-01-24T14:54:14.590Z"
   },
   {
    "duration": 87,
    "start_time": "2023-01-24T14:55:22.400Z"
   },
   {
    "duration": 242,
    "start_time": "2023-01-24T14:55:29.226Z"
   },
   {
    "duration": 282,
    "start_time": "2023-01-24T14:55:32.966Z"
   },
   {
    "duration": 202,
    "start_time": "2023-01-24T14:55:41.423Z"
   },
   {
    "duration": 15,
    "start_time": "2023-01-24T14:55:50.352Z"
   }
  ],
  "kernelspec": {
   "display_name": "Python 3 (ipykernel)",
   "language": "python",
   "name": "python3"
  },
  "language_info": {
   "codemirror_mode": {
    "name": "ipython",
    "version": 3
   },
   "file_extension": ".py",
   "mimetype": "text/x-python",
   "name": "python",
   "nbconvert_exporter": "python",
   "pygments_lexer": "ipython3",
   "version": "3.9.12"
  },
  "toc": {
   "base_numbering": 1,
   "nav_menu": {},
   "number_sections": true,
   "sideBar": true,
   "skip_h1_title": true,
   "title_cell": "Содержание",
   "title_sidebar": "Contents",
   "toc_cell": true,
   "toc_position": {
    "height": "calc(100% - 180px)",
    "left": "10px",
    "top": "150px",
    "width": "165px"
   },
   "toc_section_display": true,
   "toc_window_display": true
  }
 },
 "nbformat": 4,
 "nbformat_minor": 2
}
